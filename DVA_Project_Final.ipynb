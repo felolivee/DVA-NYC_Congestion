{
  "cells": [
    {
      "cell_type": "markdown",
      "metadata": {
        "id": "view-in-github",
        "colab_type": "text"
      },
      "source": [
        "<a href=\"https://colab.research.google.com/github/felolivee/DVA-NYC_Congestion/blob/main/DVA_Project_Final.ipynb\" target=\"_parent\"><img src=\"https://colab.research.google.com/assets/colab-badge.svg\" alt=\"Open In Colab\"/></a>"
      ]
    },
    {
      "cell_type": "code",
      "execution_count": 1,
      "metadata": {
        "colab": {
          "base_uri": "https://localhost:8080/"
        },
        "id": "FheudcLvXYUJ",
        "outputId": "6b291611-e287-4fef-b269-87ae65e430bd"
      },
      "outputs": [
        {
          "output_type": "stream",
          "name": "stdout",
          "text": [
            "Mounted at /content/drive\n"
          ]
        }
      ],
      "source": [
        "from google.colab import drive\n",
        "\n",
        "#mount drive to save data\n",
        "drive.mount('/content/drive')"
      ]
    },
    {
      "cell_type": "code",
      "execution_count": 2,
      "metadata": {
        "colab": {
          "base_uri": "https://localhost:8080/",
          "height": 74
        },
        "id": "TKiGw5VbRQGv",
        "outputId": "f0980f86-468e-4d3f-8b59-e7030d2c0cec"
      },
      "outputs": [
        {
          "output_type": "display_data",
          "data": {
            "text/plain": [
              "<IPython.core.display.HTML object>"
            ],
            "text/html": [
              "\n",
              "     <input type=\"file\" id=\"files-61f83833-e676-4131-903f-fedbad8b9580\" name=\"files[]\" multiple disabled\n",
              "        style=\"border:none\" />\n",
              "     <output id=\"result-61f83833-e676-4131-903f-fedbad8b9580\">\n",
              "      Upload widget is only available when the cell has been executed in the\n",
              "      current browser session. Please rerun this cell to enable.\n",
              "      </output>\n",
              "      <script>// Copyright 2017 Google LLC\n",
              "//\n",
              "// Licensed under the Apache License, Version 2.0 (the \"License\");\n",
              "// you may not use this file except in compliance with the License.\n",
              "// You may obtain a copy of the License at\n",
              "//\n",
              "//      http://www.apache.org/licenses/LICENSE-2.0\n",
              "//\n",
              "// Unless required by applicable law or agreed to in writing, software\n",
              "// distributed under the License is distributed on an \"AS IS\" BASIS,\n",
              "// WITHOUT WARRANTIES OR CONDITIONS OF ANY KIND, either express or implied.\n",
              "// See the License for the specific language governing permissions and\n",
              "// limitations under the License.\n",
              "\n",
              "/**\n",
              " * @fileoverview Helpers for google.colab Python module.\n",
              " */\n",
              "(function(scope) {\n",
              "function span(text, styleAttributes = {}) {\n",
              "  const element = document.createElement('span');\n",
              "  element.textContent = text;\n",
              "  for (const key of Object.keys(styleAttributes)) {\n",
              "    element.style[key] = styleAttributes[key];\n",
              "  }\n",
              "  return element;\n",
              "}\n",
              "\n",
              "// Max number of bytes which will be uploaded at a time.\n",
              "const MAX_PAYLOAD_SIZE = 100 * 1024;\n",
              "\n",
              "function _uploadFiles(inputId, outputId) {\n",
              "  const steps = uploadFilesStep(inputId, outputId);\n",
              "  const outputElement = document.getElementById(outputId);\n",
              "  // Cache steps on the outputElement to make it available for the next call\n",
              "  // to uploadFilesContinue from Python.\n",
              "  outputElement.steps = steps;\n",
              "\n",
              "  return _uploadFilesContinue(outputId);\n",
              "}\n",
              "\n",
              "// This is roughly an async generator (not supported in the browser yet),\n",
              "// where there are multiple asynchronous steps and the Python side is going\n",
              "// to poll for completion of each step.\n",
              "// This uses a Promise to block the python side on completion of each step,\n",
              "// then passes the result of the previous step as the input to the next step.\n",
              "function _uploadFilesContinue(outputId) {\n",
              "  const outputElement = document.getElementById(outputId);\n",
              "  const steps = outputElement.steps;\n",
              "\n",
              "  const next = steps.next(outputElement.lastPromiseValue);\n",
              "  return Promise.resolve(next.value.promise).then((value) => {\n",
              "    // Cache the last promise value to make it available to the next\n",
              "    // step of the generator.\n",
              "    outputElement.lastPromiseValue = value;\n",
              "    return next.value.response;\n",
              "  });\n",
              "}\n",
              "\n",
              "/**\n",
              " * Generator function which is called between each async step of the upload\n",
              " * process.\n",
              " * @param {string} inputId Element ID of the input file picker element.\n",
              " * @param {string} outputId Element ID of the output display.\n",
              " * @return {!Iterable<!Object>} Iterable of next steps.\n",
              " */\n",
              "function* uploadFilesStep(inputId, outputId) {\n",
              "  const inputElement = document.getElementById(inputId);\n",
              "  inputElement.disabled = false;\n",
              "\n",
              "  const outputElement = document.getElementById(outputId);\n",
              "  outputElement.innerHTML = '';\n",
              "\n",
              "  const pickedPromise = new Promise((resolve) => {\n",
              "    inputElement.addEventListener('change', (e) => {\n",
              "      resolve(e.target.files);\n",
              "    });\n",
              "  });\n",
              "\n",
              "  const cancel = document.createElement('button');\n",
              "  inputElement.parentElement.appendChild(cancel);\n",
              "  cancel.textContent = 'Cancel upload';\n",
              "  const cancelPromise = new Promise((resolve) => {\n",
              "    cancel.onclick = () => {\n",
              "      resolve(null);\n",
              "    };\n",
              "  });\n",
              "\n",
              "  // Wait for the user to pick the files.\n",
              "  const files = yield {\n",
              "    promise: Promise.race([pickedPromise, cancelPromise]),\n",
              "    response: {\n",
              "      action: 'starting',\n",
              "    }\n",
              "  };\n",
              "\n",
              "  cancel.remove();\n",
              "\n",
              "  // Disable the input element since further picks are not allowed.\n",
              "  inputElement.disabled = true;\n",
              "\n",
              "  if (!files) {\n",
              "    return {\n",
              "      response: {\n",
              "        action: 'complete',\n",
              "      }\n",
              "    };\n",
              "  }\n",
              "\n",
              "  for (const file of files) {\n",
              "    const li = document.createElement('li');\n",
              "    li.append(span(file.name, {fontWeight: 'bold'}));\n",
              "    li.append(span(\n",
              "        `(${file.type || 'n/a'}) - ${file.size} bytes, ` +\n",
              "        `last modified: ${\n",
              "            file.lastModifiedDate ? file.lastModifiedDate.toLocaleDateString() :\n",
              "                                    'n/a'} - `));\n",
              "    const percent = span('0% done');\n",
              "    li.appendChild(percent);\n",
              "\n",
              "    outputElement.appendChild(li);\n",
              "\n",
              "    const fileDataPromise = new Promise((resolve) => {\n",
              "      const reader = new FileReader();\n",
              "      reader.onload = (e) => {\n",
              "        resolve(e.target.result);\n",
              "      };\n",
              "      reader.readAsArrayBuffer(file);\n",
              "    });\n",
              "    // Wait for the data to be ready.\n",
              "    let fileData = yield {\n",
              "      promise: fileDataPromise,\n",
              "      response: {\n",
              "        action: 'continue',\n",
              "      }\n",
              "    };\n",
              "\n",
              "    // Use a chunked sending to avoid message size limits. See b/62115660.\n",
              "    let position = 0;\n",
              "    do {\n",
              "      const length = Math.min(fileData.byteLength - position, MAX_PAYLOAD_SIZE);\n",
              "      const chunk = new Uint8Array(fileData, position, length);\n",
              "      position += length;\n",
              "\n",
              "      const base64 = btoa(String.fromCharCode.apply(null, chunk));\n",
              "      yield {\n",
              "        response: {\n",
              "          action: 'append',\n",
              "          file: file.name,\n",
              "          data: base64,\n",
              "        },\n",
              "      };\n",
              "\n",
              "      let percentDone = fileData.byteLength === 0 ?\n",
              "          100 :\n",
              "          Math.round((position / fileData.byteLength) * 100);\n",
              "      percent.textContent = `${percentDone}% done`;\n",
              "\n",
              "    } while (position < fileData.byteLength);\n",
              "  }\n",
              "\n",
              "  // All done.\n",
              "  yield {\n",
              "    response: {\n",
              "      action: 'complete',\n",
              "    }\n",
              "  };\n",
              "}\n",
              "\n",
              "scope.google = scope.google || {};\n",
              "scope.google.colab = scope.google.colab || {};\n",
              "scope.google.colab._files = {\n",
              "  _uploadFiles,\n",
              "  _uploadFilesContinue,\n",
              "};\n",
              "})(self);\n",
              "</script> "
            ]
          },
          "metadata": {}
        },
        {
          "output_type": "stream",
          "name": "stdout",
          "text": [
            "Saving kaggle.json to kaggle.json\n"
          ]
        }
      ],
      "source": [
        "from google.colab import files\n",
        "files.upload()\n",
        "! mkdir ~/.kaggle\n",
        "! cp kaggle.json ~/.kaggle/\n",
        "! chmod 600 ~/.kaggle/kaggle.json"
      ]
    },
    {
      "cell_type": "code",
      "execution_count": 3,
      "metadata": {
        "colab": {
          "base_uri": "https://localhost:8080/"
        },
        "id": "0bKnrdDkWiZy",
        "outputId": "2f173a8a-9407-440d-88a0-8b1cfec9ae61"
      },
      "outputs": [
        {
          "output_type": "stream",
          "name": "stdout",
          "text": [
            "Downloading from https://www.kaggle.com/api/v1/datasets/download/jeffsinsel/nyc-fhvhv-data?dataset_version_number=4...\n"
          ]
        },
        {
          "output_type": "stream",
          "name": "stderr",
          "text": [
            "100%|██████████| 17.8G/17.8G [04:23<00:00, 72.8MB/s]"
          ]
        },
        {
          "output_type": "stream",
          "name": "stdout",
          "text": [
            "Extracting files...\n"
          ]
        },
        {
          "output_type": "stream",
          "name": "stderr",
          "text": [
            "\n"
          ]
        },
        {
          "output_type": "stream",
          "name": "stdout",
          "text": [
            "Path to dataset files: /root/.cache/kagglehub/datasets/jeffsinsel/nyc-fhvhv-data/versions/4\n"
          ]
        }
      ],
      "source": [
        "import kagglehub\n",
        "import time\n",
        "\n",
        "start_time = time.time()\n",
        "\n",
        "# Download 2019-2022 Data\n",
        "originalPath = kagglehub.dataset_download(\"jeffsinsel/nyc-fhvhv-data\")\n",
        "\n",
        "print(\"Path to dataset files:\", originalPath)\n",
        "!mv {originalPath}/* /content"
      ]
    },
    {
      "cell_type": "code",
      "execution_count": null,
      "metadata": {
        "id": "Swv78QZrCNK9"
      },
      "outputs": [],
      "source": [
        "# OPTIONAL TO TEST SCALING: Download Nov 2024, Dec 2024, and Jan 2025 Data for Scalability\n",
        "extendedPath = kagglehub.dataset_download(\"folive8/jan2025nyc\")\n",
        "\n",
        "print(\"Path to dataset files:\", extendedPath)\n",
        "!mv {extendedPath}/* /content"
      ]
    },
    {
      "cell_type": "code",
      "execution_count": 4,
      "metadata": {
        "colab": {
          "base_uri": "https://localhost:8080/"
        },
        "id": "38gHSijVhGYO",
        "outputId": "f8199748-2cfe-4d20-afee-223d70ecc4d2"
      },
      "outputs": [
        {
          "output_type": "stream",
          "name": "stdout",
          "text": [
            "Data download execution time: 528.91 seconds\n"
          ]
        }
      ],
      "source": [
        "end_download = time.time()\n",
        "print(f\"Data download execution time: {end_download - start_time:.2f} seconds\")"
      ]
    },
    {
      "cell_type": "code",
      "execution_count": 5,
      "metadata": {
        "colab": {
          "base_uri": "https://localhost:8080/"
        },
        "id": "DJpwGZouaL6X",
        "outputId": "42513fcc-bd2f-4e59-b952-9ec72895520f"
      },
      "outputs": [
        {
          "output_type": "stream",
          "name": "stdout",
          "text": [
            "Removal Summary: {'/content/fhvhv_tripdata_2021-12.parquet': 94795, '/content/fhvhv_tripdata_2021-07.parquet': 140020, '/content/fhvhv_tripdata_2019-02.parquet': 2781621, '/content/fhvhv_tripdata_2022-07.parquet': 77160, '/content/fhvhv_tripdata_2021-03.parquet': 140061, '/content/fhvhv_tripdata_2020-04.parquet': 69415, '/content/fhvhv_tripdata_2021-11.parquet': 97481, '/content/fhvhv_tripdata_2022-01.parquet': 77981, '/content/fhvhv_tripdata_2021-02.parquet': 123443, '/content/fhvhv_tripdata_2020-10.parquet': 130980, '/content/fhvhv_tripdata_2021-05.parquet': 142950, '/content/fhvhv_tripdata_2019-05.parquet': 2197902, '/content/fhvhv_tripdata_2020-03.parquet': 949378, '/content/fhvhv_tripdata_2019-09.parquet': 2193661, '/content/fhvhv_tripdata_2019-04.parquet': 2150489, '/content/fhvhv_tripdata_2022-02.parquet': 84755, '/content/fhvhv_tripdata_2022-03.parquet': 84930, '/content/fhvhv_tripdata_2019-03.parquet': 2346635, '/content/fhvhv_tripdata_2021-06.parquet': 155107, '/content/fhvhv_tripdata_2021-01.parquet': 103408, '/content/fhvhv_tripdata_2020-11.parquet': 103002, '/content/fhvhv_tripdata_2019-08.parquet': 4465149, '/content/fhvhv_tripdata_2022-04.parquet': 82929, '/content/fhvhv_tripdata_2021-08.parquet': 130783, '/content/fhvhv_tripdata_2020-09.parquet': 132524, '/content/fhvhv_tripdata_2020-02.parquet': 2034127, '/content/fhvhv_tripdata_2019-06.parquet': 2174047, '/content/fhvhv_tripdata_2022-10.parquet': 159570, '/content/fhvhv_tripdata_2019-07.parquet': 2783564, '/content/fhvhv_tripdata_2020-06.parquet': 110413, '/content/fhvhv_tripdata_2022-06.parquet': 87529, '/content/fhvhv_tripdata_2019-12.parquet': 2247128, '/content/fhvhv_tripdata_2022-05.parquet': 91469, '/content/fhvhv_tripdata_2020-01.parquet': 2120334, '/content/fhvhv_tripdata_2020-08.parquet': 135659, '/content/fhvhv_tripdata_2022-11.parquet': 323983, '/content/fhvhv_tripdata_2019-11.parquet': 2343369, '/content/fhvhv_tripdata_2022-09.parquet': 85805, '/content/fhvhv_tripdata_2020-05.parquet': 78979, '/content/fhvhv_tripdata_2019-10.parquet': 2486406, '/content/fhvhv_tripdata_2020-12.parquet': 104215, '/content/fhvhv_tripdata_2020-07.parquet': 188921, '/content/fhvhv_tripdata_2022-08.parquet': 83152, '/content/fhvhv_tripdata_2021-09.parquet': 134529, '/content/fhvhv_tripdata_2021-10.parquet': 104918, '/content/fhvhv_tripdata_2021-04.parquet': 143913}\n"
          ]
        }
      ],
      "source": [
        "import pyspark.sql.functions as F\n",
        "from pyspark.sql import SparkSession\n",
        "import glob\n",
        "import pandas as pd\n",
        "import numpy as np\n",
        "\n",
        "# initialize spark\n",
        "spark = SparkSession.builder.appName(\"NYC_Rides\").getOrCreate()\n",
        "\n",
        "# list of all parquet files from content folder\n",
        "parquet_files = glob.glob('/content/*.parquet')\n",
        "\n",
        "removed_summary = {}\n",
        "combined_df = None\n",
        "\n",
        "rawTotalCount = 0\n",
        "cleanTotalCount = 0\n",
        "\n",
        "for file in parquet_files:\n",
        "    # read parquet files get features\n",
        "    df = spark.read.parquet(file).select(\n",
        "        \"Pickup_datetime\", \"DropOff_datetime\", \"PULocationID\", \"DOLocationID\",\n",
        "        \"base_passenger_fare\", \"trip_miles\", \"tips\", \"driver_pay\", \"trip_time\",\n",
        "        \"Hvfhs_license_num\", \"congestion_surcharge\"\n",
        "    )\n",
        "\n",
        "    initial_count = df.count()\n",
        "    rawTotalCount += initial_count\n",
        "\n",
        "    # Clean data by filtering out null and invalid values\n",
        "    df_clean = df.filter(\n",
        "        (F.col(\"Pickup_datetime\").isNotNull()) &\n",
        "        (F.col(\"DropOff_datetime\").isNotNull()) &\n",
        "        (F.col(\"PULocationID\").isNotNull()) &\n",
        "        (F.col(\"DOLocationID\").isNotNull()) &\n",
        "        (F.col(\"base_passenger_fare\").isNotNull()) &\n",
        "        (F.col(\"trip_miles\").isNotNull()) &\n",
        "        (F.col(\"tips\").isNotNull()) &\n",
        "        (F.col(\"driver_pay\").isNotNull()) &\n",
        "        (F.col(\"trip_time\").isNotNull()) &\n",
        "        (F.col(\"Hvfhs_license_num\").isNotNull()) &\n",
        "        (F.col(\"congestion_surcharge\").isNotNull()) &\n",
        "\n",
        "\n",
        "        # Ensure numeric columns have valid positive values\n",
        "        (F.col(\"base_passenger_fare\") > 0) &\n",
        "        (F.col(\"trip_miles\") > 0) &\n",
        "        (F.col(\"driver_pay\") > 0) &\n",
        "        (F.col(\"trip_time\") > 0)\n",
        "    )\n",
        "\n",
        "    clean_count = df_clean.count()\n",
        "    cleanTotalCount += clean_count\n",
        "    removed_summary[file] = initial_count - clean_count\n",
        "\n",
        "    # combine clean DFs into one big DF\n",
        "    if combined_df is None:\n",
        "        combined_df = df_clean\n",
        "    else:\n",
        "        combined_df = combined_df.union(df_clean)\n",
        "\n",
        "# check how many of each file were removed\n",
        "print(\"Removal Summary:\", removed_summary)"
      ]
    },
    {
      "cell_type": "code",
      "execution_count": 6,
      "metadata": {
        "colab": {
          "base_uri": "https://localhost:8080/"
        },
        "id": "v_VA9Ju4l4lr",
        "outputId": "80a0455a-89a5-4344-cc5e-6fcd364455c7"
      },
      "outputs": [
        {
          "output_type": "stream",
          "name": "stdout",
          "text": [
            "Raw data count: 745287023\n",
            "Cleaned data count: 708208434\n",
            "4.97507508593773% was removed from a total of 745287023 rides\n"
          ]
        }
      ],
      "source": [
        "# calculate how many total rows of data were removed\n",
        "percent_removed = (1 - cleanTotalCount/rawTotalCount) * 100\n",
        "\n",
        "print(\"Raw data count: {}\".format(rawTotalCount))\n",
        "print(\"Cleaned data count: {}\".format(cleanTotalCount))\n",
        "print(\"{}% was removed from a total of {} rides\".format(percent_removed, rawTotalCount))"
      ]
    },
    {
      "cell_type": "code",
      "execution_count": 7,
      "metadata": {
        "colab": {
          "base_uri": "https://localhost:8080/"
        },
        "id": "QukqqPIhdSpg",
        "outputId": "a1924952-643a-4cb4-a05b-66d55a66f3f5"
      },
      "outputs": [
        {
          "output_type": "stream",
          "name": "stdout",
          "text": [
            "Data cleaning execution time: 1031.00 seconds\n"
          ]
        }
      ],
      "source": [
        "end_cleaning = time.time()\n",
        "print(f\"Data cleaning execution time: {end_cleaning - start_time:.2f} seconds\")"
      ]
    },
    {
      "cell_type": "code",
      "execution_count": 8,
      "metadata": {
        "id": "DMbIfr-aTX5a"
      },
      "outputs": [],
      "source": [
        "# aggregate features for Tableau file\n",
        "\n",
        "add_hour = combined_df.withColumn(\"hour\", F.date_format(F.col(\"Pickup_datetime\"), \"k\"))\n",
        "\n",
        "tableau_df = add_hour.groupBy([\"PULocationID\", \"hour\", \"Hvfhs_license_num\"]).agg(F.count(\"PULocationID\").alias(\"num_rides\"),F.mean(\"trip_miles\").alias(\"avg_trip_miles\"), F.mean(\"driver_pay\").alias(\"avg_driver_pay\"))\n",
        "\n",
        "tableau_df = tableau_df.withColumn(\"rideType\", F.when(F.col(\"Hvfhs_license_num\") == \"HV0002\", \"Juno\")\n",
        "     .when(F.col(\"Hvfhs_license_num\") == \"HV0003\", \"Uber\")\n",
        "     .when(F.col(\"Hvfhs_license_num\") == \"HV0004\", \"Via\")\n",
        "     .when(F.col(\"Hvfhs_license_num\") == \"HV0005\", \"Lyft\"))"
      ]
    },
    {
      "cell_type": "code",
      "execution_count": 9,
      "metadata": {
        "id": "jxDjF8IlTX5a"
      },
      "outputs": [],
      "source": [
        "# Save data for Tableau\n",
        "tableau_df = tableau_df.toPandas()\n",
        "tableau_df.to_csv('/content/drive/MyDrive/dva_project.csv')"
      ]
    },
    {
      "cell_type": "code",
      "execution_count": 10,
      "metadata": {
        "id": "AAs8bZsmddVN",
        "colab": {
          "base_uri": "https://localhost:8080/"
        },
        "outputId": "dc11d2eb-2a36-48b3-e85c-51d2d3178311"
      },
      "outputs": [
        {
          "output_type": "stream",
          "name": "stdout",
          "text": [
            "Save CSV for Tableau execution time: 2278.30 seconds\n"
          ]
        }
      ],
      "source": [
        "end_tableau = time.time()\n",
        "print(f\"Save CSV for Tableau execution time: {end_tableau - start_time:.2f} seconds\")"
      ]
    },
    {
      "cell_type": "code",
      "execution_count": 11,
      "metadata": {
        "id": "nCTcblxHUWBs",
        "colab": {
          "base_uri": "https://localhost:8080/"
        },
        "outputId": "dcbcffc1-4d63-4df6-f39d-f381266ddaa6"
      },
      "outputs": [
        {
          "output_type": "stream",
          "name": "stdout",
          "text": [
            "\u001b[?25l   \u001b[90m━━━━━━━━━━━━━━━━━━━━━━━━━━━━━━━━━━━━━━━━\u001b[0m \u001b[32m0.0/85.7 kB\u001b[0m \u001b[31m?\u001b[0m eta \u001b[36m-:--:--\u001b[0m\r\u001b[2K   \u001b[90m━━━━━━━━━━━━━━━━━━━━━━━━━━━━━━━━━━━━━━━━\u001b[0m \u001b[32m85.7/85.7 kB\u001b[0m \u001b[31m3.2 MB/s\u001b[0m eta \u001b[36m0:00:00\u001b[0m\n",
            "\u001b[?25h"
          ]
        }
      ],
      "source": [
        "!pip install -q category_encoders"
      ]
    },
    {
      "cell_type": "code",
      "execution_count": 12,
      "metadata": {
        "id": "2ZxUPzW78ymN"
      },
      "outputs": [],
      "source": [
        "from pyspark.sql.functions import hour\n",
        "\n",
        "# Extract Hour from Pickup_datetime\n",
        "combined_df = combined_df.withColumn(\"hour\", hour(\"Pickup_datetime\"))\n"
      ]
    },
    {
      "cell_type": "code",
      "execution_count": 13,
      "metadata": {
        "id": "YiOTJF734Czl",
        "colab": {
          "base_uri": "https://localhost:8080/"
        },
        "outputId": "89aed0ed-9f7d-4eec-ed83-b06063397f23"
      },
      "outputs": [
        {
          "output_type": "stream",
          "name": "stdout",
          "text": [
            "+-------------------+-------------------+------------+------------+-------------------+----------+----+----------+---------+-----------------+--------------------+----+\n",
            "|    Pickup_datetime|   DropOff_datetime|PULocationID|DOLocationID|base_passenger_fare|trip_miles|tips|driver_pay|trip_time|Hvfhs_license_num|congestion_surcharge|hour|\n",
            "+-------------------+-------------------+------------+------------+-------------------+----------+----+----------+---------+-----------------+--------------------+----+\n",
            "|2021-12-01 00:09:16|2021-12-01 00:58:03|         164|         265|              72.32|     17.54| 0.0|     53.67|     2928|           HV0003|                2.75|   0|\n",
            "|2021-12-01 00:06:05|2021-12-01 00:19:05|          80|         112|              13.27|      2.39| 0.0|      9.41|      780|           HV0003|                 0.0|   0|\n",
            "|2021-12-01 00:22:45|2021-12-01 00:43:47|         112|         189|              22.59|      4.91|5.05|     16.23|     1262|           HV0003|                 0.0|   0|\n",
            "|2021-12-01 00:50:51|2021-12-01 00:59:20|          49|         225|               9.58|      1.59| 0.0|      6.26|      509|           HV0003|                 0.0|   0|\n",
            "|2021-12-01 00:29:12|2021-12-01 00:37:22|         239|         263|               9.15|      1.78| 7.0|      6.07|      490|           HV0003|                2.75|   0|\n",
            "+-------------------+-------------------+------------+------------+-------------------+----------+----+----------+---------+-----------------+--------------------+----+\n",
            "only showing top 5 rows\n",
            "\n",
            "root\n",
            " |-- Pickup_datetime: timestamp_ntz (nullable = true)\n",
            " |-- DropOff_datetime: timestamp_ntz (nullable = true)\n",
            " |-- PULocationID: long (nullable = true)\n",
            " |-- DOLocationID: long (nullable = true)\n",
            " |-- base_passenger_fare: double (nullable = true)\n",
            " |-- trip_miles: double (nullable = true)\n",
            " |-- tips: double (nullable = true)\n",
            " |-- driver_pay: double (nullable = true)\n",
            " |-- trip_time: long (nullable = true)\n",
            " |-- Hvfhs_license_num: string (nullable = true)\n",
            " |-- congestion_surcharge: double (nullable = true)\n",
            " |-- hour: integer (nullable = true)\n",
            "\n"
          ]
        }
      ],
      "source": [
        "combined_df.show(5)\n",
        "combined_df.printSchema()"
      ]
    },
    {
      "cell_type": "code",
      "execution_count": 14,
      "metadata": {
        "id": "m6cM6cF-83pc"
      },
      "outputs": [],
      "source": [
        "from pyspark.sql.functions import col, sum, min\n",
        "\n",
        "# Group by Pickup Zone, Hour, and Ride-Hailing Company to Aggregate Driver Pay\n",
        "df_grouped = combined_df.groupBy(\"PULocationID\", \"hour\", \"Hvfhs_license_num\").agg(\n",
        "    sum(\"driver_pay\").alias(\"total_driver_pay\"),\n",
        "    sum(\"tips\").alias(\"total_tips\"),\n",
        "    sum(\"trip_miles\").alias(\"total_miles\"),\n",
        "    sum(\"trip_time\").alias(\"total_time_seconds\"),\n",
        "    sum(\"base_passenger_fare\").alias(\"total_base_fare\"),\n",
        "    min(\"Pickup_datetime\").alias(\"earliest_pickup_time\")\n",
        ")\n"
      ]
    },
    {
      "cell_type": "code",
      "execution_count": 15,
      "metadata": {
        "id": "e9ON6rMF9Pew"
      },
      "outputs": [],
      "source": [
        "# Convert to Pandas dataframe\n",
        "df = df_grouped.toPandas()"
      ]
    },
    {
      "cell_type": "code",
      "execution_count": 16,
      "metadata": {
        "id": "1K1COQ3Q5_oZ",
        "colab": {
          "base_uri": "https://localhost:8080/"
        },
        "outputId": "fc245020-3ab4-42fb-bfce-07565e2bc7ee"
      },
      "outputs": [
        {
          "output_type": "stream",
          "name": "stderr",
          "text": [
            "<ipython-input-16-95ed533df8ae>:12: FutureWarning: A value is trying to be set on a copy of a DataFrame or Series through chained assignment using an inplace method.\n",
            "The behavior will change in pandas 3.0. This inplace method will never work because the intermediate object on which we are setting values always behaves as a copy.\n",
            "\n",
            "For example, when doing 'df[col].method(value, inplace=True)', try using 'df.method({col: value}, inplace=True)' or df[col] = df[col].method(value) instead, to perform the operation inplace on the original object.\n",
            "\n",
            "\n",
            "  df_pandas[\"total_time_hours\"].replace(0, np.nan, inplace=True)\n"
          ]
        }
      ],
      "source": [
        "df_pandas = df.copy()\n",
        "\n",
        "# Add relevant variables\n",
        "df_pandas[\"earliest_pickup_time\"] = pd.to_datetime(df_pandas[\"earliest_pickup_time\"])\n",
        "df_pandas[\"day_of_week\"] = df_pandas[\"earliest_pickup_time\"].dt.dayofweek\n",
        "df_pandas[\"is_weekend\"] = df_pandas[\"day_of_week\"].isin([5, 6]).astype(int)\n",
        "\n",
        "# Convert trip time from seconds to hours\n",
        "df_pandas[\"total_time_hours\"] = df_pandas[\"total_time_seconds\"] / 3600\n",
        "\n",
        "# Handle division by zero\n",
        "df_pandas[\"total_time_hours\"].replace(0, np.nan, inplace=True)\n",
        "\n",
        "# Compute total driver earnings (including tips)\n",
        "df_pandas[\"total_driver_earnings\"] = df_pandas[\"total_driver_pay\"] + df_pandas[\"total_tips\"]\n",
        "\n",
        "# Compute earnings per hour\n",
        "df_pandas[\"earnings_per_hour\"] = df_pandas[\"total_driver_earnings\"] / df_pandas[\"total_time_hours\"]"
      ]
    },
    {
      "cell_type": "code",
      "execution_count": 17,
      "metadata": {
        "id": "dDPePuiBxgUG",
        "colab": {
          "base_uri": "https://localhost:8080/"
        },
        "outputId": "19a33ed8-2bf4-4004-81fa-7663e75334fc"
      },
      "outputs": [
        {
          "output_type": "execute_result",
          "data": {
            "text/plain": [
              "['PULocationID',\n",
              " 'hour',\n",
              " 'Hvfhs_license_num',\n",
              " 'total_driver_pay',\n",
              " 'total_tips',\n",
              " 'total_miles',\n",
              " 'total_time_seconds',\n",
              " 'total_base_fare',\n",
              " 'earliest_pickup_time',\n",
              " 'day_of_week',\n",
              " 'is_weekend',\n",
              " 'total_time_hours',\n",
              " 'total_driver_earnings',\n",
              " 'earnings_per_hour']"
            ]
          },
          "metadata": {},
          "execution_count": 17
        }
      ],
      "source": [
        "# get column names\n",
        "df_pandas.columns.tolist()"
      ]
    },
    {
      "cell_type": "code",
      "execution_count": 18,
      "metadata": {
        "id": "uhuz5ng-93Lj"
      },
      "outputs": [],
      "source": [
        "from sklearn.model_selection import train_test_split\n",
        "from sklearn.preprocessing import OneHotEncoder\n",
        "\n",
        "# Drop unnecessary columns\n",
        "X = df_pandas.drop(columns=[\"total_driver_earnings\", \"earnings_per_hour\", \"earliest_pickup_time\", \"total_driver_pay\", \"total_time_seconds\"])\n",
        "y = df_pandas[\"earnings_per_hour\"]\n",
        "\n",
        "# Encode PULocationID using target mean encoding\n",
        "pulo_mean = df_pandas.groupby(\"PULocationID\")[\"earnings_per_hour\"].mean()\n",
        "df_pandas[\"PULocationID_encoded\"] = df_pandas[\"PULocationID\"].map(pulo_mean)\n",
        "X = X.drop(columns=[\"PULocationID\"])\n",
        "\n",
        "# One-hot encode Hvfhs_license_num\n",
        "X = pd.get_dummies(X, columns=[\"Hvfhs_license_num\"], drop_first=True)\n",
        "X = X.astype(float)\n",
        "\n",
        "# Fix extreme outliers in target variable\n",
        "y = y.clip(upper=y.quantile(0.99))\n",
        "\n",
        "# Train-test split\n",
        "X_train, X_test, y_train, y_test = train_test_split(X, y, test_size=0.2, random_state=42)"
      ]
    },
    {
      "cell_type": "code",
      "execution_count": 19,
      "metadata": {
        "id": "oAAkLrr-RxE5",
        "colab": {
          "base_uri": "https://localhost:8080/"
        },
        "outputId": "f74188bb-ba1f-441b-e71a-38b14411fabb"
      },
      "outputs": [
        {
          "output_type": "stream",
          "name": "stdout",
          "text": [
            "                  R² Score       MAE\n",
            "RandomForest      0.727405  2.769593\n",
            "XGBoost           0.796635  2.329759\n",
            "GradientBoosting  0.803475  2.295832\n"
          ]
        }
      ],
      "source": [
        "from sklearn.ensemble import RandomForestRegressor, GradientBoostingRegressor\n",
        "from xgboost import XGBRegressor\n",
        "from sklearn.metrics import r2_score, mean_absolute_error\n",
        "\n",
        "# Train different models to choose the best performing one\n",
        "\n",
        "models = {\n",
        "    \"RandomForest\": RandomForestRegressor(n_estimators=100, max_depth=10, random_state=42),\n",
        "    \"XGBoost\": XGBRegressor(n_estimators=100, learning_rate=0.1, max_depth=6, random_state=42),\n",
        "    \"GradientBoosting\": GradientBoostingRegressor(n_estimators=100, learning_rate=0.1, max_depth=6, random_state=42)\n",
        "}\n",
        "\n",
        "results = {}\n",
        "for name, model in models.items():\n",
        "    model.fit(X_train, y_train)\n",
        "    y_pred = model.predict(X_test)\n",
        "    r2 = r2_score(y_test, y_pred)\n",
        "    mae = mean_absolute_error(y_test, y_pred)\n",
        "    results[name] = {\"R² Score\": r2, \"MAE\": mae}\n",
        "\n",
        "# Convert results dictionary to DataFrame\n",
        "results_df = pd.DataFrame(results).T\n",
        "\n",
        "# Display the results\n",
        "print(results_df)\n"
      ]
    },
    {
      "cell_type": "code",
      "execution_count": 20,
      "metadata": {
        "id": "ph7CADllGC4S"
      },
      "outputs": [],
      "source": [
        "#GradientBoosting is the best model, therefore I'll use it to predict driver earnings for your heatmap\n",
        "\n",
        "# Train GradientBoosting with the whole dataset\n",
        "best_model = GradientBoostingRegressor(n_estimators=100, learning_rate=0.1, max_depth=6, random_state=42)\n",
        "best_model.fit(X, y)\n",
        "\n",
        "# Predict earnings_per_hour\n",
        "y_pred = best_model.predict(X)\n",
        "\n",
        "# Attach Predictions to PULocationID\n",
        "df_pandas[\"predicted_earnings_per_hour\"] = y_pred\n"
      ]
    },
    {
      "cell_type": "code",
      "execution_count": 21,
      "metadata": {
        "id": "bIFZ2GV6dZvJ",
        "colab": {
          "base_uri": "https://localhost:8080/"
        },
        "outputId": "93b1ef10-8528-45e9-80b7-525ccb8ba0d3"
      },
      "outputs": [
        {
          "output_type": "stream",
          "name": "stdout",
          "text": [
            "   PULocationID  hour  predicted_earnings_per_hour\n",
            "0             1     0                    58.385701\n",
            "1             1     1                    64.568775\n",
            "2             1     2                    67.868063\n",
            "3             1     3                    69.569105\n",
            "4             1     4                    72.479634\n"
          ]
        }
      ],
      "source": [
        "# Create a dataframe with PULocationID and predicted_earnings_per_hour for heatmap\n",
        "\n",
        "# Group by PULocationID and Hour to Get Mean Earnings Per Hour\n",
        "earnings_by_location_time = (\n",
        "    df_pandas.groupby([\"PULocationID\", \"hour\"])[\"predicted_earnings_per_hour\"]\n",
        "    .mean()\n",
        "    .reset_index()\n",
        ")\n",
        "\n",
        "# Display first few rows of Results\n",
        "print(earnings_by_location_time.head())"
      ]
    },
    {
      "cell_type": "code",
      "execution_count": 22,
      "metadata": {
        "id": "vY4DolS7Y_7g"
      },
      "outputs": [],
      "source": [
        "#write earnings by location file\n",
        "earnings_by_location_time.to_csv('/content/drive/MyDrive/earnings_by_location_time.csv')"
      ]
    },
    {
      "cell_type": "code",
      "execution_count": 23,
      "metadata": {
        "id": "keehtRuHd0F-",
        "colab": {
          "base_uri": "https://localhost:8080/"
        },
        "outputId": "714403ac-9a62-4e6f-f395-aaa9ae578fe2"
      },
      "outputs": [
        {
          "output_type": "stream",
          "name": "stdout",
          "text": [
            "Save CSV of earnings prediction execution time: 3254.14 seconds\n"
          ]
        }
      ],
      "source": [
        "end_earningPrediction = time.time()\n",
        "print(f\"Save CSV of earnings prediction execution time: {end_earningPrediction - start_time:.2f} seconds\")"
      ]
    },
    {
      "cell_type": "code",
      "execution_count": 24,
      "metadata": {
        "id": "369_78hkbZAY"
      },
      "outputs": [],
      "source": [
        "# Group by Pickup Zone, Hour to aggregate City Revenue\n",
        "df_grouped = combined_df.groupBy(\"PULocationID\", \"hour\", \"Hvfhs_license_num\").agg(\n",
        "    sum(\"trip_miles\").alias(\"total_miles\"),\n",
        "    sum(\"trip_time\").alias(\"total_time_seconds\"),\n",
        "    sum(\"base_passenger_fare\").alias(\"total_base_fare\"),\n",
        "    min(\"Pickup_datetime\").alias(\"earliest_pickup_time\"),\n",
        "    sum(\"congestion_surcharge\").alias(\"total_congestion_surcharge\")\n",
        ")"
      ]
    },
    {
      "cell_type": "code",
      "execution_count": 25,
      "metadata": {
        "id": "juOqWLGjbcLz",
        "colab": {
          "base_uri": "https://localhost:8080/"
        },
        "outputId": "7a466508-fcff-452d-b511-43b019cba0ef"
      },
      "outputs": [
        {
          "output_type": "stream",
          "name": "stdout",
          "text": [
            "['PULocationID', 'hour', 'Hvfhs_license_num', 'total_miles', 'total_time_seconds', 'total_base_fare', 'earliest_pickup_time', 'total_congestion_surcharge']\n"
          ]
        }
      ],
      "source": [
        "print(df_grouped.columns)\n",
        "pand_df = df_grouped.toPandas()"
      ]
    },
    {
      "cell_type": "code",
      "execution_count": 26,
      "metadata": {
        "id": "l4XR-YQQbfYp",
        "colab": {
          "base_uri": "https://localhost:8080/"
        },
        "outputId": "bd31d53c-9e30-4929-dad9-0d1ffbaf1670"
      },
      "outputs": [
        {
          "output_type": "stream",
          "name": "stdout",
          "text": [
            "Index(['PULocationID', 'hour', 'Hvfhs_license_num', 'total_miles',\n",
            "       'total_time_seconds', 'total_base_fare', 'earliest_pickup_time',\n",
            "       'total_congestion_surcharge', 'year', 'day_of_week', 'city_revenue',\n",
            "       'city_revenue_per_hour'],\n",
            "      dtype='object')\n"
          ]
        }
      ],
      "source": [
        "pand_df['year'] = pand_df['earliest_pickup_time'].dt.year\n",
        "pand_df[\"day_of_week\"] = pand_df[\"earliest_pickup_time\"].dt.dayofweek\n",
        "pand_df['city_revenue'] = (pand_df['total_base_fare'] * 0.0875) + pand_df['total_congestion_surcharge']\n",
        "pand_df['city_revenue_per_hour'] = pand_df['city_revenue'] / (pand_df['total_time_seconds'] / 3600 )\n",
        "print(pand_df.columns)"
      ]
    },
    {
      "cell_type": "code",
      "execution_count": 27,
      "metadata": {
        "id": "ajrsJFn4o6U4",
        "colab": {
          "base_uri": "https://localhost:8080/",
          "height": 663
        },
        "outputId": "6fdd9770-4a83-42ff-bf4b-2931d67e8e73"
      },
      "outputs": [
        {
          "output_type": "stream",
          "name": "stdout",
          "text": [
            "Index(['year', 'Hvfhs_license_num_HV0003', 'Hvfhs_license_num_HV0004',\n",
            "       'Hvfhs_license_num_HV0005', 'day_of_week_1', 'day_of_week_2',\n",
            "       'day_of_week_3', 'day_of_week_4', 'day_of_week_5', 'day_of_week_6',\n",
            "       'hour_1', 'hour_2', 'hour_3', 'hour_4', 'hour_5', 'hour_6', 'hour_7',\n",
            "       'hour_8', 'hour_9', 'hour_10', 'hour_11', 'hour_12', 'hour_13',\n",
            "       'hour_14', 'hour_15', 'hour_16', 'hour_17', 'hour_18', 'hour_19',\n",
            "       'hour_20', 'hour_21', 'hour_22', 'hour_23'],\n",
            "      dtype='object')\n"
          ]
        },
        {
          "output_type": "execute_result",
          "data": {
            "text/plain": [
              "    PULocationID  hour  predicted_city_revenue_per_hour\n",
              "0              1     0                         5513.796\n",
              "1              1     1                        72360.494\n",
              "2              1     2                            0.000\n",
              "3              1     3                          549.933\n",
              "4              1     4                        28088.007\n",
              "5              1     5                        32836.387\n",
              "6              1     6                          637.066\n",
              "7              1     7                          873.480\n",
              "8              1     8                        88748.941\n",
              "9              1     9                        82492.452\n",
              "10             1    10                        77372.798\n",
              "11             1    11                        33799.449\n",
              "12             1    12                         3646.735\n",
              "13             1    13                        31908.066\n",
              "14             1    14                         3781.201"
            ],
            "text/html": [
              "\n",
              "  <div id=\"df-aa2aa4c9-03ca-4c4d-b36b-7dfe525a27fa\" class=\"colab-df-container\">\n",
              "    <div>\n",
              "<style scoped>\n",
              "    .dataframe tbody tr th:only-of-type {\n",
              "        vertical-align: middle;\n",
              "    }\n",
              "\n",
              "    .dataframe tbody tr th {\n",
              "        vertical-align: top;\n",
              "    }\n",
              "\n",
              "    .dataframe thead th {\n",
              "        text-align: right;\n",
              "    }\n",
              "</style>\n",
              "<table border=\"1\" class=\"dataframe\">\n",
              "  <thead>\n",
              "    <tr style=\"text-align: right;\">\n",
              "      <th></th>\n",
              "      <th>PULocationID</th>\n",
              "      <th>hour</th>\n",
              "      <th>predicted_city_revenue_per_hour</th>\n",
              "    </tr>\n",
              "  </thead>\n",
              "  <tbody>\n",
              "    <tr>\n",
              "      <th>0</th>\n",
              "      <td>1</td>\n",
              "      <td>0</td>\n",
              "      <td>5513.796</td>\n",
              "    </tr>\n",
              "    <tr>\n",
              "      <th>1</th>\n",
              "      <td>1</td>\n",
              "      <td>1</td>\n",
              "      <td>72360.494</td>\n",
              "    </tr>\n",
              "    <tr>\n",
              "      <th>2</th>\n",
              "      <td>1</td>\n",
              "      <td>2</td>\n",
              "      <td>0.000</td>\n",
              "    </tr>\n",
              "    <tr>\n",
              "      <th>3</th>\n",
              "      <td>1</td>\n",
              "      <td>3</td>\n",
              "      <td>549.933</td>\n",
              "    </tr>\n",
              "    <tr>\n",
              "      <th>4</th>\n",
              "      <td>1</td>\n",
              "      <td>4</td>\n",
              "      <td>28088.007</td>\n",
              "    </tr>\n",
              "    <tr>\n",
              "      <th>5</th>\n",
              "      <td>1</td>\n",
              "      <td>5</td>\n",
              "      <td>32836.387</td>\n",
              "    </tr>\n",
              "    <tr>\n",
              "      <th>6</th>\n",
              "      <td>1</td>\n",
              "      <td>6</td>\n",
              "      <td>637.066</td>\n",
              "    </tr>\n",
              "    <tr>\n",
              "      <th>7</th>\n",
              "      <td>1</td>\n",
              "      <td>7</td>\n",
              "      <td>873.480</td>\n",
              "    </tr>\n",
              "    <tr>\n",
              "      <th>8</th>\n",
              "      <td>1</td>\n",
              "      <td>8</td>\n",
              "      <td>88748.941</td>\n",
              "    </tr>\n",
              "    <tr>\n",
              "      <th>9</th>\n",
              "      <td>1</td>\n",
              "      <td>9</td>\n",
              "      <td>82492.452</td>\n",
              "    </tr>\n",
              "    <tr>\n",
              "      <th>10</th>\n",
              "      <td>1</td>\n",
              "      <td>10</td>\n",
              "      <td>77372.798</td>\n",
              "    </tr>\n",
              "    <tr>\n",
              "      <th>11</th>\n",
              "      <td>1</td>\n",
              "      <td>11</td>\n",
              "      <td>33799.449</td>\n",
              "    </tr>\n",
              "    <tr>\n",
              "      <th>12</th>\n",
              "      <td>1</td>\n",
              "      <td>12</td>\n",
              "      <td>3646.735</td>\n",
              "    </tr>\n",
              "    <tr>\n",
              "      <th>13</th>\n",
              "      <td>1</td>\n",
              "      <td>13</td>\n",
              "      <td>31908.066</td>\n",
              "    </tr>\n",
              "    <tr>\n",
              "      <th>14</th>\n",
              "      <td>1</td>\n",
              "      <td>14</td>\n",
              "      <td>3781.201</td>\n",
              "    </tr>\n",
              "  </tbody>\n",
              "</table>\n",
              "</div>\n",
              "    <div class=\"colab-df-buttons\">\n",
              "\n",
              "  <div class=\"colab-df-container\">\n",
              "    <button class=\"colab-df-convert\" onclick=\"convertToInteractive('df-aa2aa4c9-03ca-4c4d-b36b-7dfe525a27fa')\"\n",
              "            title=\"Convert this dataframe to an interactive table.\"\n",
              "            style=\"display:none;\">\n",
              "\n",
              "  <svg xmlns=\"http://www.w3.org/2000/svg\" height=\"24px\" viewBox=\"0 -960 960 960\">\n",
              "    <path d=\"M120-120v-720h720v720H120Zm60-500h600v-160H180v160Zm220 220h160v-160H400v160Zm0 220h160v-160H400v160ZM180-400h160v-160H180v160Zm440 0h160v-160H620v160ZM180-180h160v-160H180v160Zm440 0h160v-160H620v160Z\"/>\n",
              "  </svg>\n",
              "    </button>\n",
              "\n",
              "  <style>\n",
              "    .colab-df-container {\n",
              "      display:flex;\n",
              "      gap: 12px;\n",
              "    }\n",
              "\n",
              "    .colab-df-convert {\n",
              "      background-color: #E8F0FE;\n",
              "      border: none;\n",
              "      border-radius: 50%;\n",
              "      cursor: pointer;\n",
              "      display: none;\n",
              "      fill: #1967D2;\n",
              "      height: 32px;\n",
              "      padding: 0 0 0 0;\n",
              "      width: 32px;\n",
              "    }\n",
              "\n",
              "    .colab-df-convert:hover {\n",
              "      background-color: #E2EBFA;\n",
              "      box-shadow: 0px 1px 2px rgba(60, 64, 67, 0.3), 0px 1px 3px 1px rgba(60, 64, 67, 0.15);\n",
              "      fill: #174EA6;\n",
              "    }\n",
              "\n",
              "    .colab-df-buttons div {\n",
              "      margin-bottom: 4px;\n",
              "    }\n",
              "\n",
              "    [theme=dark] .colab-df-convert {\n",
              "      background-color: #3B4455;\n",
              "      fill: #D2E3FC;\n",
              "    }\n",
              "\n",
              "    [theme=dark] .colab-df-convert:hover {\n",
              "      background-color: #434B5C;\n",
              "      box-shadow: 0px 1px 3px 1px rgba(0, 0, 0, 0.15);\n",
              "      filter: drop-shadow(0px 1px 2px rgba(0, 0, 0, 0.3));\n",
              "      fill: #FFFFFF;\n",
              "    }\n",
              "  </style>\n",
              "\n",
              "    <script>\n",
              "      const buttonEl =\n",
              "        document.querySelector('#df-aa2aa4c9-03ca-4c4d-b36b-7dfe525a27fa button.colab-df-convert');\n",
              "      buttonEl.style.display =\n",
              "        google.colab.kernel.accessAllowed ? 'block' : 'none';\n",
              "\n",
              "      async function convertToInteractive(key) {\n",
              "        const element = document.querySelector('#df-aa2aa4c9-03ca-4c4d-b36b-7dfe525a27fa');\n",
              "        const dataTable =\n",
              "          await google.colab.kernel.invokeFunction('convertToInteractive',\n",
              "                                                    [key], {});\n",
              "        if (!dataTable) return;\n",
              "\n",
              "        const docLinkHtml = 'Like what you see? Visit the ' +\n",
              "          '<a target=\"_blank\" href=https://colab.research.google.com/notebooks/data_table.ipynb>data table notebook</a>'\n",
              "          + ' to learn more about interactive tables.';\n",
              "        element.innerHTML = '';\n",
              "        dataTable['output_type'] = 'display_data';\n",
              "        await google.colab.output.renderOutput(dataTable, element);\n",
              "        const docLink = document.createElement('div');\n",
              "        docLink.innerHTML = docLinkHtml;\n",
              "        element.appendChild(docLink);\n",
              "      }\n",
              "    </script>\n",
              "  </div>\n",
              "\n",
              "\n",
              "<div id=\"df-f31735cc-b471-4fd5-9515-e2954ce0da9c\">\n",
              "  <button class=\"colab-df-quickchart\" onclick=\"quickchart('df-f31735cc-b471-4fd5-9515-e2954ce0da9c')\"\n",
              "            title=\"Suggest charts\"\n",
              "            style=\"display:none;\">\n",
              "\n",
              "<svg xmlns=\"http://www.w3.org/2000/svg\" height=\"24px\"viewBox=\"0 0 24 24\"\n",
              "     width=\"24px\">\n",
              "    <g>\n",
              "        <path d=\"M19 3H5c-1.1 0-2 .9-2 2v14c0 1.1.9 2 2 2h14c1.1 0 2-.9 2-2V5c0-1.1-.9-2-2-2zM9 17H7v-7h2v7zm4 0h-2V7h2v10zm4 0h-2v-4h2v4z\"/>\n",
              "    </g>\n",
              "</svg>\n",
              "  </button>\n",
              "\n",
              "<style>\n",
              "  .colab-df-quickchart {\n",
              "      --bg-color: #E8F0FE;\n",
              "      --fill-color: #1967D2;\n",
              "      --hover-bg-color: #E2EBFA;\n",
              "      --hover-fill-color: #174EA6;\n",
              "      --disabled-fill-color: #AAA;\n",
              "      --disabled-bg-color: #DDD;\n",
              "  }\n",
              "\n",
              "  [theme=dark] .colab-df-quickchart {\n",
              "      --bg-color: #3B4455;\n",
              "      --fill-color: #D2E3FC;\n",
              "      --hover-bg-color: #434B5C;\n",
              "      --hover-fill-color: #FFFFFF;\n",
              "      --disabled-bg-color: #3B4455;\n",
              "      --disabled-fill-color: #666;\n",
              "  }\n",
              "\n",
              "  .colab-df-quickchart {\n",
              "    background-color: var(--bg-color);\n",
              "    border: none;\n",
              "    border-radius: 50%;\n",
              "    cursor: pointer;\n",
              "    display: none;\n",
              "    fill: var(--fill-color);\n",
              "    height: 32px;\n",
              "    padding: 0;\n",
              "    width: 32px;\n",
              "  }\n",
              "\n",
              "  .colab-df-quickchart:hover {\n",
              "    background-color: var(--hover-bg-color);\n",
              "    box-shadow: 0 1px 2px rgba(60, 64, 67, 0.3), 0 1px 3px 1px rgba(60, 64, 67, 0.15);\n",
              "    fill: var(--button-hover-fill-color);\n",
              "  }\n",
              "\n",
              "  .colab-df-quickchart-complete:disabled,\n",
              "  .colab-df-quickchart-complete:disabled:hover {\n",
              "    background-color: var(--disabled-bg-color);\n",
              "    fill: var(--disabled-fill-color);\n",
              "    box-shadow: none;\n",
              "  }\n",
              "\n",
              "  .colab-df-spinner {\n",
              "    border: 2px solid var(--fill-color);\n",
              "    border-color: transparent;\n",
              "    border-bottom-color: var(--fill-color);\n",
              "    animation:\n",
              "      spin 1s steps(1) infinite;\n",
              "  }\n",
              "\n",
              "  @keyframes spin {\n",
              "    0% {\n",
              "      border-color: transparent;\n",
              "      border-bottom-color: var(--fill-color);\n",
              "      border-left-color: var(--fill-color);\n",
              "    }\n",
              "    20% {\n",
              "      border-color: transparent;\n",
              "      border-left-color: var(--fill-color);\n",
              "      border-top-color: var(--fill-color);\n",
              "    }\n",
              "    30% {\n",
              "      border-color: transparent;\n",
              "      border-left-color: var(--fill-color);\n",
              "      border-top-color: var(--fill-color);\n",
              "      border-right-color: var(--fill-color);\n",
              "    }\n",
              "    40% {\n",
              "      border-color: transparent;\n",
              "      border-right-color: var(--fill-color);\n",
              "      border-top-color: var(--fill-color);\n",
              "    }\n",
              "    60% {\n",
              "      border-color: transparent;\n",
              "      border-right-color: var(--fill-color);\n",
              "    }\n",
              "    80% {\n",
              "      border-color: transparent;\n",
              "      border-right-color: var(--fill-color);\n",
              "      border-bottom-color: var(--fill-color);\n",
              "    }\n",
              "    90% {\n",
              "      border-color: transparent;\n",
              "      border-bottom-color: var(--fill-color);\n",
              "    }\n",
              "  }\n",
              "</style>\n",
              "\n",
              "  <script>\n",
              "    async function quickchart(key) {\n",
              "      const quickchartButtonEl =\n",
              "        document.querySelector('#' + key + ' button');\n",
              "      quickchartButtonEl.disabled = true;  // To prevent multiple clicks.\n",
              "      quickchartButtonEl.classList.add('colab-df-spinner');\n",
              "      try {\n",
              "        const charts = await google.colab.kernel.invokeFunction(\n",
              "            'suggestCharts', [key], {});\n",
              "      } catch (error) {\n",
              "        console.error('Error during call to suggestCharts:', error);\n",
              "      }\n",
              "      quickchartButtonEl.classList.remove('colab-df-spinner');\n",
              "      quickchartButtonEl.classList.add('colab-df-quickchart-complete');\n",
              "    }\n",
              "    (() => {\n",
              "      let quickchartButtonEl =\n",
              "        document.querySelector('#df-f31735cc-b471-4fd5-9515-e2954ce0da9c button');\n",
              "      quickchartButtonEl.style.display =\n",
              "        google.colab.kernel.accessAllowed ? 'block' : 'none';\n",
              "    })();\n",
              "  </script>\n",
              "</div>\n",
              "\n",
              "    </div>\n",
              "  </div>\n"
            ],
            "application/vnd.google.colaboratory.intrinsic+json": {
              "type": "dataframe",
              "variable_name": "city_revenue",
              "summary": "{\n  \"name\": \"city_revenue\",\n  \"rows\": 6309,\n  \"fields\": [\n    {\n      \"column\": \"PULocationID\",\n      \"properties\": {\n        \"dtype\": \"number\",\n        \"std\": 76,\n        \"min\": 1,\n        \"max\": 265,\n        \"num_unique_values\": 263,\n        \"samples\": [\n          118,\n          123,\n          262\n        ],\n        \"semantic_type\": \"\",\n        \"description\": \"\"\n      }\n    },\n    {\n      \"column\": \"hour\",\n      \"properties\": {\n        \"dtype\": \"int32\",\n        \"num_unique_values\": 24,\n        \"samples\": [\n          8,\n          16,\n          0\n        ],\n        \"semantic_type\": \"\",\n        \"description\": \"\"\n      }\n    },\n    {\n      \"column\": \"predicted_city_revenue_per_hour\",\n      \"properties\": {\n        \"dtype\": \"number\",\n        \"std\": 28033.095266916065,\n        \"min\": 0.0,\n        \"max\": 185134.187,\n        \"num_unique_values\": 1205,\n        \"samples\": [\n          117826.007,\n          89492.327,\n          97152.321\n        ],\n        \"semantic_type\": \"\",\n        \"description\": \"\"\n      }\n    }\n  ]\n}"
            }
          },
          "metadata": {},
          "execution_count": 27
        }
      ],
      "source": [
        "# Regression for NYC Revenue\n",
        "\n",
        "\n",
        "# creating new copy of dataframe\n",
        "reg2 = pand_df.copy()\n",
        "\n",
        "\n",
        "# getting rid of unccessary columns and creating x&y variables\n",
        "x = reg2.drop(columns=['total_time_seconds', 'total_miles', 'total_base_fare', 'total_congestion_surcharge', 'earliest_pickup_time', 'city_revenue', 'city_revenue_per_hour'])\n",
        "x = pd.get_dummies(x, columns=[\"Hvfhs_license_num\"], drop_first=True)\n",
        "x = pd.get_dummies(x, columns=[\"day_of_week\"], drop_first = True)\n",
        "x = pd.get_dummies(x, columns=[\"hour\"], drop_first = True)\n",
        "pulo_mean = pand_df.groupby(\"PULocationID\")[\"city_revenue_per_hour\"].mean()\n",
        "pand_df[\"PULocationID_encoded\"] = pand_df[\"PULocationID\"].map(pulo_mean)\n",
        "x = x.drop(columns=[\"PULocationID\"])\n",
        "print(x.columns)\n",
        "\n",
        "y = reg2['city_revenue']\n",
        "y = y.clip(upper=y.quantile(0.99))\n",
        "\n",
        "\n",
        "# run model\n",
        "city_revenue_model = GradientBoostingRegressor(n_estimators=100, learning_rate = 0.1, max_depth=6, random_state=42)\n",
        "city_revenue_model.fit(x,y)\n",
        "\n",
        "prediction = city_revenue_model.predict(x)\n",
        "reg2['predicted_city_revenue_per_hour'] = prediction\n",
        "reg2['predicted_city_revenue_per_hour'] = np.where(reg2['predicted_city_revenue_per_hour'] < 0 , 0, reg2['predicted_city_revenue_per_hour'])\n",
        "\n",
        "# create dataframe for city revenue per hour\n",
        "city_revenue = (reg2.groupby(['PULocationID','hour'])['predicted_city_revenue_per_hour'].mean().round(3).reset_index())\n",
        "city_revenue.head(15)"
      ]
    },
    {
      "cell_type": "code",
      "execution_count": 28,
      "metadata": {
        "id": "8qMYgLnQ64Uk"
      },
      "outputs": [],
      "source": [
        "#write city revenue file\n",
        "city_revenue.to_csv('/content/drive/MyDrive/city_revenue_.csv')"
      ]
    },
    {
      "cell_type": "code",
      "execution_count": 29,
      "metadata": {
        "id": "v0fgkfE1d9sW",
        "colab": {
          "base_uri": "https://localhost:8080/"
        },
        "outputId": "614c2592-6f0c-43bc-def4-e40a85f11522"
      },
      "outputs": [
        {
          "output_type": "stream",
          "name": "stdout",
          "text": [
            "Save CSV of city revenue execution time (total execution time): 4145.00 seconds\n"
          ]
        }
      ],
      "source": [
        "end_revenuePrediction = time.time()\n",
        "print(f\"Save CSV of city revenue execution time (total execution time): {end_revenuePrediction - start_time:.2f} seconds\")"
      ]
    }
  ],
  "metadata": {
    "colab": {
      "provenance": [],
      "include_colab_link": true
    },
    "kernelspec": {
      "display_name": "Python 3 (ipykernel)",
      "language": "python",
      "name": "python3"
    },
    "language_info": {
      "codemirror_mode": {
        "name": "ipython",
        "version": 3
      },
      "file_extension": ".py",
      "mimetype": "text/x-python",
      "name": "python",
      "nbconvert_exporter": "python",
      "pygments_lexer": "ipython3",
      "version": "3.12.3"
    }
  },
  "nbformat": 4,
  "nbformat_minor": 0
}