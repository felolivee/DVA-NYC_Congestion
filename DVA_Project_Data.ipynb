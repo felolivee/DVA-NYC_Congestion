{
  "nbformat": 4,
  "nbformat_minor": 0,
  "metadata": {
    "colab": {
      "provenance": [],
      "include_colab_link": true
    },
    "kernelspec": {
      "name": "python3",
      "display_name": "Python 3"
    },
    "language_info": {
      "name": "python"
    }
  },
  "cells": [
    {
      "cell_type": "markdown",
      "metadata": {
        "id": "view-in-github",
        "colab_type": "text"
      },
      "source": [
        "<a href=\"https://colab.research.google.com/github/felolivee/DVA-NYC_Congestion/blob/Ashley/DVA_Project_Data.ipynb\" target=\"_parent\"><img src=\"https://colab.research.google.com/assets/colab-badge.svg\" alt=\"Open In Colab\"/></a>"
      ]
    },
    {
      "cell_type": "code",
      "execution_count": 1,
      "metadata": {
        "colab": {
          "base_uri": "https://localhost:8080/",
          "height": 181
        },
        "id": "TKiGw5VbRQGv",
        "outputId": "1389b528-65e3-487a-ba33-0ffa66dda7fa",
        "collapsed": true
      },
      "outputs": [
        {
          "output_type": "display_data",
          "data": {
            "text/plain": [
              "<IPython.core.display.HTML object>"
            ],
            "text/html": [
              "\n",
              "     <input type=\"file\" id=\"files-6cf2f375-0b01-41dd-ad33-a44a62d43ad9\" name=\"files[]\" multiple disabled\n",
              "        style=\"border:none\" />\n",
              "     <output id=\"result-6cf2f375-0b01-41dd-ad33-a44a62d43ad9\">\n",
              "      Upload widget is only available when the cell has been executed in the\n",
              "      current browser session. Please rerun this cell to enable.\n",
              "      </output>\n",
              "      <script>// Copyright 2017 Google LLC\n",
              "//\n",
              "// Licensed under the Apache License, Version 2.0 (the \"License\");\n",
              "// you may not use this file except in compliance with the License.\n",
              "// You may obtain a copy of the License at\n",
              "//\n",
              "//      http://www.apache.org/licenses/LICENSE-2.0\n",
              "//\n",
              "// Unless required by applicable law or agreed to in writing, software\n",
              "// distributed under the License is distributed on an \"AS IS\" BASIS,\n",
              "// WITHOUT WARRANTIES OR CONDITIONS OF ANY KIND, either express or implied.\n",
              "// See the License for the specific language governing permissions and\n",
              "// limitations under the License.\n",
              "\n",
              "/**\n",
              " * @fileoverview Helpers for google.colab Python module.\n",
              " */\n",
              "(function(scope) {\n",
              "function span(text, styleAttributes = {}) {\n",
              "  const element = document.createElement('span');\n",
              "  element.textContent = text;\n",
              "  for (const key of Object.keys(styleAttributes)) {\n",
              "    element.style[key] = styleAttributes[key];\n",
              "  }\n",
              "  return element;\n",
              "}\n",
              "\n",
              "// Max number of bytes which will be uploaded at a time.\n",
              "const MAX_PAYLOAD_SIZE = 100 * 1024;\n",
              "\n",
              "function _uploadFiles(inputId, outputId) {\n",
              "  const steps = uploadFilesStep(inputId, outputId);\n",
              "  const outputElement = document.getElementById(outputId);\n",
              "  // Cache steps on the outputElement to make it available for the next call\n",
              "  // to uploadFilesContinue from Python.\n",
              "  outputElement.steps = steps;\n",
              "\n",
              "  return _uploadFilesContinue(outputId);\n",
              "}\n",
              "\n",
              "// This is roughly an async generator (not supported in the browser yet),\n",
              "// where there are multiple asynchronous steps and the Python side is going\n",
              "// to poll for completion of each step.\n",
              "// This uses a Promise to block the python side on completion of each step,\n",
              "// then passes the result of the previous step as the input to the next step.\n",
              "function _uploadFilesContinue(outputId) {\n",
              "  const outputElement = document.getElementById(outputId);\n",
              "  const steps = outputElement.steps;\n",
              "\n",
              "  const next = steps.next(outputElement.lastPromiseValue);\n",
              "  return Promise.resolve(next.value.promise).then((value) => {\n",
              "    // Cache the last promise value to make it available to the next\n",
              "    // step of the generator.\n",
              "    outputElement.lastPromiseValue = value;\n",
              "    return next.value.response;\n",
              "  });\n",
              "}\n",
              "\n",
              "/**\n",
              " * Generator function which is called between each async step of the upload\n",
              " * process.\n",
              " * @param {string} inputId Element ID of the input file picker element.\n",
              " * @param {string} outputId Element ID of the output display.\n",
              " * @return {!Iterable<!Object>} Iterable of next steps.\n",
              " */\n",
              "function* uploadFilesStep(inputId, outputId) {\n",
              "  const inputElement = document.getElementById(inputId);\n",
              "  inputElement.disabled = false;\n",
              "\n",
              "  const outputElement = document.getElementById(outputId);\n",
              "  outputElement.innerHTML = '';\n",
              "\n",
              "  const pickedPromise = new Promise((resolve) => {\n",
              "    inputElement.addEventListener('change', (e) => {\n",
              "      resolve(e.target.files);\n",
              "    });\n",
              "  });\n",
              "\n",
              "  const cancel = document.createElement('button');\n",
              "  inputElement.parentElement.appendChild(cancel);\n",
              "  cancel.textContent = 'Cancel upload';\n",
              "  const cancelPromise = new Promise((resolve) => {\n",
              "    cancel.onclick = () => {\n",
              "      resolve(null);\n",
              "    };\n",
              "  });\n",
              "\n",
              "  // Wait for the user to pick the files.\n",
              "  const files = yield {\n",
              "    promise: Promise.race([pickedPromise, cancelPromise]),\n",
              "    response: {\n",
              "      action: 'starting',\n",
              "    }\n",
              "  };\n",
              "\n",
              "  cancel.remove();\n",
              "\n",
              "  // Disable the input element since further picks are not allowed.\n",
              "  inputElement.disabled = true;\n",
              "\n",
              "  if (!files) {\n",
              "    return {\n",
              "      response: {\n",
              "        action: 'complete',\n",
              "      }\n",
              "    };\n",
              "  }\n",
              "\n",
              "  for (const file of files) {\n",
              "    const li = document.createElement('li');\n",
              "    li.append(span(file.name, {fontWeight: 'bold'}));\n",
              "    li.append(span(\n",
              "        `(${file.type || 'n/a'}) - ${file.size} bytes, ` +\n",
              "        `last modified: ${\n",
              "            file.lastModifiedDate ? file.lastModifiedDate.toLocaleDateString() :\n",
              "                                    'n/a'} - `));\n",
              "    const percent = span('0% done');\n",
              "    li.appendChild(percent);\n",
              "\n",
              "    outputElement.appendChild(li);\n",
              "\n",
              "    const fileDataPromise = new Promise((resolve) => {\n",
              "      const reader = new FileReader();\n",
              "      reader.onload = (e) => {\n",
              "        resolve(e.target.result);\n",
              "      };\n",
              "      reader.readAsArrayBuffer(file);\n",
              "    });\n",
              "    // Wait for the data to be ready.\n",
              "    let fileData = yield {\n",
              "      promise: fileDataPromise,\n",
              "      response: {\n",
              "        action: 'continue',\n",
              "      }\n",
              "    };\n",
              "\n",
              "    // Use a chunked sending to avoid message size limits. See b/62115660.\n",
              "    let position = 0;\n",
              "    do {\n",
              "      const length = Math.min(fileData.byteLength - position, MAX_PAYLOAD_SIZE);\n",
              "      const chunk = new Uint8Array(fileData, position, length);\n",
              "      position += length;\n",
              "\n",
              "      const base64 = btoa(String.fromCharCode.apply(null, chunk));\n",
              "      yield {\n",
              "        response: {\n",
              "          action: 'append',\n",
              "          file: file.name,\n",
              "          data: base64,\n",
              "        },\n",
              "      };\n",
              "\n",
              "      let percentDone = fileData.byteLength === 0 ?\n",
              "          100 :\n",
              "          Math.round((position / fileData.byteLength) * 100);\n",
              "      percent.textContent = `${percentDone}% done`;\n",
              "\n",
              "    } while (position < fileData.byteLength);\n",
              "  }\n",
              "\n",
              "  // All done.\n",
              "  yield {\n",
              "    response: {\n",
              "      action: 'complete',\n",
              "    }\n",
              "  };\n",
              "}\n",
              "\n",
              "scope.google = scope.google || {};\n",
              "scope.google.colab = scope.google.colab || {};\n",
              "scope.google.colab._files = {\n",
              "  _uploadFiles,\n",
              "  _uploadFilesContinue,\n",
              "};\n",
              "})(self);\n",
              "</script> "
            ]
          },
          "metadata": {}
        },
        {
          "output_type": "stream",
          "name": "stdout",
          "text": [
            "cp: cannot stat 'kaggle.json': No such file or directory\n",
            "chmod: cannot access '/root/.kaggle/kaggle.json': No such file or directory\n",
            "Warning: Looks like you're using an outdated API Version, please consider updating (server 1.7.4.2 / client 1.6.17)\n",
            "Dataset URL: https://www.kaggle.com/datasets/jeffsinsel/nyc-fhvhv-data\n",
            "License(s): CC0-1.0\n",
            "Downloading nyc-fhvhv-data.zip to /content\n",
            "100% 17.8G/17.8G [03:53<00:00, 52.9MB/s]\n",
            "100% 17.8G/17.8G [03:53<00:00, 81.9MB/s]\n"
          ]
        }
      ],
      "source": [
        "#download from Kaggle\n",
        "! pip install -q kaggle\n",
        "from google.colab import files\n",
        "files.upload()\n",
        "! mkdir ~/.kaggle\n",
        "! cp kaggle.json ~/.kaggle/\n",
        "! chmod 600 ~/.kaggle/kaggle.json\n",
        "! kaggle datasets download -d jeffsinsel/nyc-fhvhv-data"
      ]
    },
    {
      "cell_type": "code",
      "source": [
        "#unzip files in nyc-fhvhv-data from Kaggle\n",
        "! unzip nyc-fhvhv-data.zip"
      ],
      "metadata": {
        "colab": {
          "base_uri": "https://localhost:8080/"
        },
        "id": "SPJjef6xU1TP",
        "outputId": "82490ac7-4a96-489a-fea6-477d0537db85",
        "collapsed": true
      },
      "execution_count": 2,
      "outputs": [
        {
          "output_type": "stream",
          "name": "stdout",
          "text": [
            "Archive:  nyc-fhvhv-data.zip\n",
            "  inflating: data_dictionary_trip_records_hvfhs.pdf  \n",
            "  inflating: fhvhv_tripdata_2019-02.parquet  \n",
            "  inflating: fhvhv_tripdata_2019-03.parquet  \n",
            "  inflating: fhvhv_tripdata_2019-04.parquet  \n",
            "  inflating: fhvhv_tripdata_2019-05.parquet  \n",
            "  inflating: fhvhv_tripdata_2019-06.parquet  \n",
            "  inflating: fhvhv_tripdata_2019-07.parquet  \n",
            "  inflating: fhvhv_tripdata_2019-08.parquet  \n",
            "  inflating: fhvhv_tripdata_2019-09.parquet  \n",
            "  inflating: fhvhv_tripdata_2019-10.parquet  \n",
            "  inflating: fhvhv_tripdata_2019-11.parquet  \n",
            "  inflating: fhvhv_tripdata_2019-12.parquet  \n",
            "  inflating: fhvhv_tripdata_2020-01.parquet  \n",
            "  inflating: fhvhv_tripdata_2020-02.parquet  \n",
            "  inflating: fhvhv_tripdata_2020-03.parquet  \n",
            "  inflating: fhvhv_tripdata_2020-04.parquet  \n",
            "  inflating: fhvhv_tripdata_2020-05.parquet  \n",
            "  inflating: fhvhv_tripdata_2020-06.parquet  \n",
            "  inflating: fhvhv_tripdata_2020-07.parquet  \n",
            "  inflating: fhvhv_tripdata_2020-08.parquet  \n",
            "  inflating: fhvhv_tripdata_2020-09.parquet  \n",
            "  inflating: fhvhv_tripdata_2020-10.parquet  \n",
            "  inflating: fhvhv_tripdata_2020-11.parquet  \n",
            "  inflating: fhvhv_tripdata_2020-12.parquet  \n",
            "  inflating: fhvhv_tripdata_2021-01.parquet  \n",
            "  inflating: fhvhv_tripdata_2021-02.parquet  \n",
            "  inflating: fhvhv_tripdata_2021-03.parquet  \n",
            "  inflating: fhvhv_tripdata_2021-04.parquet  \n",
            "  inflating: fhvhv_tripdata_2021-05.parquet  \n",
            "  inflating: fhvhv_tripdata_2021-06.parquet  \n",
            "  inflating: fhvhv_tripdata_2021-07.parquet  \n",
            "  inflating: fhvhv_tripdata_2021-08.parquet  \n",
            "  inflating: fhvhv_tripdata_2021-09.parquet  \n",
            "  inflating: fhvhv_tripdata_2021-10.parquet  \n",
            "  inflating: fhvhv_tripdata_2021-11.parquet  \n",
            "  inflating: fhvhv_tripdata_2021-12.parquet  \n",
            "  inflating: fhvhv_tripdata_2022-01.parquet  \n",
            "  inflating: fhvhv_tripdata_2022-02.parquet  \n",
            "  inflating: fhvhv_tripdata_2022-03.parquet  \n",
            "  inflating: fhvhv_tripdata_2022-04.parquet  \n",
            "  inflating: fhvhv_tripdata_2022-05.parquet  \n",
            "  inflating: fhvhv_tripdata_2022-06.parquet  \n",
            "  inflating: fhvhv_tripdata_2022-07.parquet  \n",
            "  inflating: fhvhv_tripdata_2022-08.parquet  \n",
            "  inflating: fhvhv_tripdata_2022-09.parquet  \n",
            "  inflating: fhvhv_tripdata_2022-10.parquet  \n",
            "  inflating: fhvhv_tripdata_2022-11.parquet  \n",
            "  inflating: taxi+_zone_lookup.csv   \n",
            "  inflating: taxi_zone_map_bronx.jpg  \n",
            "  inflating: taxi_zone_map_brooklyn.jpg  \n",
            "  inflating: taxi_zone_map_manhattan.jpg  \n",
            "  inflating: taxi_zone_map_queens.jpg  \n",
            "  inflating: taxi_zone_map_staten_island.jpg  \n",
            "  inflating: taxi_zones/taxi_zones.dbf  \n",
            "  inflating: taxi_zones/taxi_zones.prj  \n",
            "  inflating: taxi_zones/taxi_zones.sbn  \n",
            "  inflating: taxi_zones/taxi_zones.sbx  \n",
            "  inflating: taxi_zones/taxi_zones.shp  \n",
            "  inflating: taxi_zones/taxi_zones.shp.xml  \n",
            "  inflating: taxi_zones/taxi_zones.shx  \n",
            "  inflating: trip_record_user_guide.pdf  \n",
            "  inflating: working_parquet_format.pdf  \n"
          ]
        }
      ]
    },
    {
      "cell_type": "code",
      "source": [
        "import pyspark.sql.functions as F\n",
        "from pyspark.sql import SparkSession\n",
        "import glob\n",
        "\n",
        "# initialize spark\n",
        "spark = SparkSession.builder.appName(\"NYC_Rides\").getOrCreate()\n",
        "\n",
        "# list of all parquet files from content folder\n",
        "parquet_files = glob.glob('/content/*.parquet')\n",
        "\n",
        "removed_summary = {}\n",
        "combined_df = None\n",
        "\n",
        "for file in parquet_files:\n",
        "    # read parquet files get features\n",
        "    df = spark.read.parquet(file).select(\"Hvfhs_license_num\", \"Pickup_datetime\", \"DropOff_datetime\", \"PULocationID\", \"DOLocationID\", \"base_passenger_fare\", \"trip_miles\", \"tips\", \"driver_pay\", \"trip_time\")\n",
        "    initial_count = df.count()\n",
        "\n",
        "    # clean data\n",
        "    df_clean = df.filter(\n",
        "        (F.col(\"Pickup_datetime\").isNotNull()) &\n",
        "        (F.col(\"DropOff_datetime\").isNotNull()) &\n",
        "        (F.col(\"PULocationID\").isNotNull()) &\n",
        "        (F.col(\"DOLocationID\").isNotNull()) &\n",
        "        (F.col(\"base_passenger_fare\").isNotNull()) &\n",
        "        (F.col(\"trip_miles\").isNotNull()) &\n",
        "        (F.col(\"tips\").isNotNull()) &\n",
        "        (F.col(\"driver_pay\").isNotNull()) &\n",
        "        (F.col(\"trip_time\").isNotNull()) &\n",
        "        (F.col(\"Hvfhs_license_num\").isNotNull()) &\n",
        "        (F.col(\"base_passenger_fare\") > 0) &\n",
        "        (F.col(\"trip_miles\") > 0) &\n",
        "        (F.col(\"driver_pay\") > 0) &\n",
        "        (F.col(\"trip_time\") > 0)\n",
        "    )\n",
        "    clean_count = df_clean.count()\n",
        "    removed_summary[file] = initial_count - clean_count\n",
        "\n",
        "    # combine clean DFs into one big DF\n",
        "    if combined_df is None:\n",
        "        combined_df = df_clean\n",
        "    else:\n",
        "        combined_df = combined_df.union(df_clean)\n",
        "\n",
        "# check how many of which file were removed\n",
        "print(\"Removal Summary:\", removed_summary)"
      ],
      "metadata": {
        "colab": {
          "base_uri": "https://localhost:8080/"
        },
        "id": "DJpwGZouaL6X",
        "outputId": "c992b2ff-4a4b-406f-de3e-d7515f0e2a7f"
      },
      "execution_count": 3,
      "outputs": [
        {
          "output_type": "stream",
          "name": "stdout",
          "text": [
            "Removal Summary: {'/content/fhvhv_tripdata_2021-07.parquet': 140020, '/content/fhvhv_tripdata_2020-12.parquet': 104215, '/content/fhvhv_tripdata_2020-11.parquet': 103002, '/content/fhvhv_tripdata_2021-01.parquet': 103408, '/content/fhvhv_tripdata_2020-08.parquet': 135659, '/content/fhvhv_tripdata_2022-10.parquet': 159570, '/content/fhvhv_tripdata_2021-05.parquet': 142950, '/content/fhvhv_tripdata_2020-02.parquet': 2034127, '/content/fhvhv_tripdata_2022-02.parquet': 84755, '/content/fhvhv_tripdata_2022-03.parquet': 84930, '/content/fhvhv_tripdata_2022-04.parquet': 82929, '/content/fhvhv_tripdata_2020-07.parquet': 188921, '/content/fhvhv_tripdata_2021-12.parquet': 94795, '/content/fhvhv_tripdata_2021-03.parquet': 140061, '/content/fhvhv_tripdata_2020-09.parquet': 132524, '/content/fhvhv_tripdata_2022-07.parquet': 77160, '/content/fhvhv_tripdata_2022-09.parquet': 85805, '/content/fhvhv_tripdata_2022-06.parquet': 87529, '/content/fhvhv_tripdata_2020-03.parquet': 949378, '/content/fhvhv_tripdata_2021-04.parquet': 143913, '/content/fhvhv_tripdata_2020-05.parquet': 78979, '/content/fhvhv_tripdata_2019-11.parquet': 2343369, '/content/fhvhv_tripdata_2021-08.parquet': 130783, '/content/fhvhv_tripdata_2021-09.parquet': 134529, '/content/fhvhv_tripdata_2019-02.parquet': 2269891, '/content/fhvhv_tripdata_2019-09.parquet': 2193661, '/content/fhvhv_tripdata_2019-04.parquet': 2150489, '/content/fhvhv_tripdata_2019-12.parquet': 2247128, '/content/fhvhv_tripdata_2022-08.parquet': 83152, '/content/fhvhv_tripdata_2020-10.parquet': 130980, '/content/fhvhv_tripdata_2020-06.parquet': 110413, '/content/fhvhv_tripdata_2021-10.parquet': 104918, '/content/fhvhv_tripdata_2019-08.parquet': 4465149, '/content/fhvhv_tripdata_2021-11.parquet': 97481, '/content/fhvhv_tripdata_2022-01.parquet': 77981, '/content/fhvhv_tripdata_2019-03.parquet': 2346635, '/content/fhvhv_tripdata_2022-11.parquet': 323983, '/content/fhvhv_tripdata_2020-04.parquet': 69415, '/content/fhvhv_tripdata_2019-10.parquet': 2486406, '/content/fhvhv_tripdata_2019-06.parquet': 2174047, '/content/fhvhv_tripdata_2019-07.parquet': 2783564, '/content/fhvhv_tripdata_2021-06.parquet': 155107, '/content/fhvhv_tripdata_2022-05.parquet': 91469, '/content/fhvhv_tripdata_2021-02.parquet': 123443, '/content/fhvhv_tripdata_2020-01.parquet': 2120334, '/content/fhvhv_tripdata_2019-05.parquet': 2197902}\n"
          ]
        }
      ]
    },
    {
      "cell_type": "code",
      "source": [
        "# calculate how many total rows of data were removed\n",
        "tot = 0\n",
        "for key,val in removed_summary.items():\n",
        "  tot += int(val)\n",
        "\n",
        "count = combined_df.count()\n",
        "percent_removed = tot/count * 100\n",
        "\n",
        "print(\"{}% was removed from a total of {} rides in 46 months\".format(percent_removed, count))"
      ],
      "metadata": {
        "colab": {
          "base_uri": "https://localhost:8080/"
        },
        "id": "v_VA9Ju4l4lr",
        "outputId": "9ca5307a-9561-4ee8-9bd6-9728add7280c"
      },
      "execution_count": 4,
      "outputs": [
        {
          "output_type": "stream",
          "name": "stdout",
          "text": [
            "5.159562385472075% was removed from a total of 708720164 rides in 46 months\n"
          ]
        }
      ]
    },
    {
      "cell_type": "code",
      "source": [
        "# show schema\n",
        "combined_df.printSchema()"
      ],
      "metadata": {
        "colab": {
          "base_uri": "https://localhost:8080/"
        },
        "id": "1ygnjutsS5J1",
        "outputId": "ea562624-e894-4c04-955c-7d8bd14dcb7c"
      },
      "execution_count": null,
      "outputs": [
        {
          "output_type": "stream",
          "name": "stdout",
          "text": [
            "root\n",
            " |-- Hvfhs_license_num: string (nullable = true)\n",
            " |-- Pickup_datetime: timestamp_ntz (nullable = true)\n",
            " |-- DropOff_datetime: timestamp_ntz (nullable = true)\n",
            " |-- PULocationID: long (nullable = true)\n",
            " |-- DOLocationID: long (nullable = true)\n",
            " |-- base_passenger_fare: double (nullable = true)\n",
            " |-- trip_miles: double (nullable = true)\n",
            " |-- tips: double (nullable = true)\n",
            " |-- driver_pay: double (nullable = true)\n",
            " |-- trip_time: long (nullable = true)\n",
            "\n"
          ]
        }
      ]
    },
    {
      "cell_type": "code",
      "source": [
        "# aggregate features for Tableau file\n",
        "add_hour = combined_df.withColumn(\"hour\", F.date_format(F.col(\"Pickup_datetime\"), \"k\"))\n",
        "\n",
        "tableau_df = add_hour.groupBy([\"PULocationID\", \"hour\", \"Hvfhs_license_num\"]).agg(F.count(\"PULocationID\").alias(\"ride_count\"),F.mean(\"trip_miles\").alias(\"avg_trip_miles\"))\n",
        "\n",
        "tableau_df.show()"
      ],
      "metadata": {
        "id": "PGQOjbGopQ3j",
        "outputId": "ecd460b0-4d7c-4df1-96c3-9d806a8b767b",
        "colab": {
          "base_uri": "https://localhost:8080/"
        }
      },
      "execution_count": 6,
      "outputs": [
        {
          "output_type": "stream",
          "name": "stdout",
          "text": [
            "+------------+----+-----------------+----------+------------------+\n",
            "|PULocationID|hour|Hvfhs_license_num|ride_count|    avg_trip_miles|\n",
            "+------------+----+-----------------+----------+------------------+\n",
            "|         114|  24|           HV0003|    238711| 4.210911562517022|\n",
            "|         249|  24|           HV0005|     90121| 4.106616548862087|\n",
            "|           7|  24|           HV0005|     69393| 4.878286008675229|\n",
            "|         155|   1|           HV0003|     22783| 5.026119475047185|\n",
            "|          28|   1|           HV0005|      7988| 6.039037806710063|\n",
            "|         203|   2|           HV0003|     11726| 6.711203308886236|\n",
            "|         131|   2|           HV0005|      3384| 6.555192080378253|\n",
            "|         226|   4|           HV0003|     46809| 5.623231643487364|\n",
            "|          73|   4|           HV0003|      8730| 4.904871706758304|\n",
            "|          31|   4|           HV0003|      1810| 5.498077348066297|\n",
            "|         195|   5|           HV0003|      9658| 7.333329881963142|\n",
            "|         220|   6|           HV0003|     45272| 6.463891809506977|\n",
            "|         175|   6|           HV0003|     12099| 7.210557897346888|\n",
            "|         106|   7|           HV0003|     21858| 5.824535639125266|\n",
            "|         165|   7|           HV0005|     19012|  5.23940648011782|\n",
            "|          79|   8|           HV0003|    228049| 4.075164416419278|\n",
            "|         236|   8|           HV0005|     44550| 4.954040179573513|\n",
            "|         238|   8|           HV0004|      1599| 4.244015009380862|\n",
            "|         138|   9|           HV0005|    115241|11.640958460964413|\n",
            "|         160|   9|           HV0005|     19407| 4.369177873963001|\n",
            "+------------+----+-----------------+----------+------------------+\n",
            "only showing top 20 rows\n",
            "\n"
          ]
        }
      ]
    },
    {
      "cell_type": "code",
      "source": [
        "tableau_df.write.csv('dva_project.csv')"
      ],
      "metadata": {
        "id": "ZUp7FUk1w-Sl"
      },
      "execution_count": 8,
      "outputs": []
    },
    {
      "cell_type": "code",
      "source": [
        "files.download('/content/dva_project.csv')"
      ],
      "metadata": {
        "id": "uGpbmFKR21Lu",
        "outputId": "f90c02c9-f2aa-4802-80ff-2e60ce3fcf6c",
        "colab": {
          "base_uri": "https://localhost:8080/",
          "height": 34
        }
      },
      "execution_count": 10,
      "outputs": [
        {
          "output_type": "display_data",
          "data": {
            "text/plain": [
              "<IPython.core.display.Javascript object>"
            ],
            "application/javascript": [
              "\n",
              "    async function download(id, filename, size) {\n",
              "      if (!google.colab.kernel.accessAllowed) {\n",
              "        return;\n",
              "      }\n",
              "      const div = document.createElement('div');\n",
              "      const label = document.createElement('label');\n",
              "      label.textContent = `Downloading \"${filename}\": `;\n",
              "      div.appendChild(label);\n",
              "      const progress = document.createElement('progress');\n",
              "      progress.max = size;\n",
              "      div.appendChild(progress);\n",
              "      document.body.appendChild(div);\n",
              "\n",
              "      const buffers = [];\n",
              "      let downloaded = 0;\n",
              "\n",
              "      const channel = await google.colab.kernel.comms.open(id);\n",
              "      // Send a message to notify the kernel that we're ready.\n",
              "      channel.send({})\n",
              "\n",
              "      for await (const message of channel.messages) {\n",
              "        // Send a message to notify the kernel that we're ready.\n",
              "        channel.send({})\n",
              "        if (message.buffers) {\n",
              "          for (const buffer of message.buffers) {\n",
              "            buffers.push(buffer);\n",
              "            downloaded += buffer.byteLength;\n",
              "            progress.value = downloaded;\n",
              "          }\n",
              "        }\n",
              "      }\n",
              "      const blob = new Blob(buffers, {type: 'application/binary'});\n",
              "      const a = document.createElement('a');\n",
              "      a.href = window.URL.createObjectURL(blob);\n",
              "      a.download = filename;\n",
              "      div.appendChild(a);\n",
              "      a.click();\n",
              "      div.remove();\n",
              "    }\n",
              "  "
            ]
          },
          "metadata": {}
        },
        {
          "output_type": "display_data",
          "data": {
            "text/plain": [
              "<IPython.core.display.Javascript object>"
            ],
            "application/javascript": [
              "download(\"download_b028e509-e920-41db-aa33-7e97dcd8dad8\", \"dva_project.csv\", 4096)"
            ]
          },
          "metadata": {}
        }
      ]
    }
  ]
}