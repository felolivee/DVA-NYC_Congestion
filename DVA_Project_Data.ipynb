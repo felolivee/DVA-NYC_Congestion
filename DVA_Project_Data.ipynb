{
  "nbformat": 4,
  "nbformat_minor": 0,
  "metadata": {
    "colab": {
      "provenance": [],
      "include_colab_link": true
    },
    "kernelspec": {
      "name": "python3",
      "display_name": "Python 3"
    },
    "language_info": {
      "name": "python"
    }
  },
  "cells": [
    {
      "cell_type": "markdown",
      "metadata": {
        "id": "view-in-github",
        "colab_type": "text"
      },
      "source": [
        "<a href=\"https://colab.research.google.com/github/felolivee/DVA-NYC_Congestion/blob/main/DVA_Project_Data.ipynb\" target=\"_parent\"><img src=\"https://colab.research.google.com/assets/colab-badge.svg\" alt=\"Open In Colab\"/></a>"
      ]
    },
    {
      "cell_type": "code",
      "execution_count": 1,
      "metadata": {
        "colab": {
          "base_uri": "https://localhost:8080/",
          "height": 164
        },
        "id": "TKiGw5VbRQGv",
        "outputId": "025cdb07-3ed6-4fe0-e4a4-0e281c9ff7a7",
        "collapsed": true
      },
      "outputs": [
        {
          "data": {
            "text/html": [
              "\n",
              "     <input type=\"file\" id=\"files-7e6ac26a-b5b2-4ed2-92dc-5ec406167545\" name=\"files[]\" multiple disabled\n",
              "        style=\"border:none\" />\n",
              "     <output id=\"result-7e6ac26a-b5b2-4ed2-92dc-5ec406167545\">\n",
              "      Upload widget is only available when the cell has been executed in the\n",
              "      current browser session. Please rerun this cell to enable.\n",
              "      </output>\n",
              "      <script>// Copyright 2017 Google LLC\n",
              "//\n",
              "// Licensed under the Apache License, Version 2.0 (the \"License\");\n",
              "// you may not use this file except in compliance with the License.\n",
              "// You may obtain a copy of the License at\n",
              "//\n",
              "//      http://www.apache.org/licenses/LICENSE-2.0\n",
              "//\n",
              "// Unless required by applicable law or agreed to in writing, software\n",
              "// distributed under the License is distributed on an \"AS IS\" BASIS,\n",
              "// WITHOUT WARRANTIES OR CONDITIONS OF ANY KIND, either express or implied.\n",
              "// See the License for the specific language governing permissions and\n",
              "// limitations under the License.\n",
              "\n",
              "/**\n",
              " * @fileoverview Helpers for google.colab Python module.\n",
              " */\n",
              "(function(scope) {\n",
              "function span(text, styleAttributes = {}) {\n",
              "  const element = document.createElement('span');\n",
              "  element.textContent = text;\n",
              "  for (const key of Object.keys(styleAttributes)) {\n",
              "    element.style[key] = styleAttributes[key];\n",
              "  }\n",
              "  return element;\n",
              "}\n",
              "\n",
              "// Max number of bytes which will be uploaded at a time.\n",
              "const MAX_PAYLOAD_SIZE = 100 * 1024;\n",
              "\n",
              "function _uploadFiles(inputId, outputId) {\n",
              "  const steps = uploadFilesStep(inputId, outputId);\n",
              "  const outputElement = document.getElementById(outputId);\n",
              "  // Cache steps on the outputElement to make it available for the next call\n",
              "  // to uploadFilesContinue from Python.\n",
              "  outputElement.steps = steps;\n",
              "\n",
              "  return _uploadFilesContinue(outputId);\n",
              "}\n",
              "\n",
              "// This is roughly an async generator (not supported in the browser yet),\n",
              "// where there are multiple asynchronous steps and the Python side is going\n",
              "// to poll for completion of each step.\n",
              "// This uses a Promise to block the python side on completion of each step,\n",
              "// then passes the result of the previous step as the input to the next step.\n",
              "function _uploadFilesContinue(outputId) {\n",
              "  const outputElement = document.getElementById(outputId);\n",
              "  const steps = outputElement.steps;\n",
              "\n",
              "  const next = steps.next(outputElement.lastPromiseValue);\n",
              "  return Promise.resolve(next.value.promise).then((value) => {\n",
              "    // Cache the last promise value to make it available to the next\n",
              "    // step of the generator.\n",
              "    outputElement.lastPromiseValue = value;\n",
              "    return next.value.response;\n",
              "  });\n",
              "}\n",
              "\n",
              "/**\n",
              " * Generator function which is called between each async step of the upload\n",
              " * process.\n",
              " * @param {string} inputId Element ID of the input file picker element.\n",
              " * @param {string} outputId Element ID of the output display.\n",
              " * @return {!Iterable<!Object>} Iterable of next steps.\n",
              " */\n",
              "function* uploadFilesStep(inputId, outputId) {\n",
              "  const inputElement = document.getElementById(inputId);\n",
              "  inputElement.disabled = false;\n",
              "\n",
              "  const outputElement = document.getElementById(outputId);\n",
              "  outputElement.innerHTML = '';\n",
              "\n",
              "  const pickedPromise = new Promise((resolve) => {\n",
              "    inputElement.addEventListener('change', (e) => {\n",
              "      resolve(e.target.files);\n",
              "    });\n",
              "  });\n",
              "\n",
              "  const cancel = document.createElement('button');\n",
              "  inputElement.parentElement.appendChild(cancel);\n",
              "  cancel.textContent = 'Cancel upload';\n",
              "  const cancelPromise = new Promise((resolve) => {\n",
              "    cancel.onclick = () => {\n",
              "      resolve(null);\n",
              "    };\n",
              "  });\n",
              "\n",
              "  // Wait for the user to pick the files.\n",
              "  const files = yield {\n",
              "    promise: Promise.race([pickedPromise, cancelPromise]),\n",
              "    response: {\n",
              "      action: 'starting',\n",
              "    }\n",
              "  };\n",
              "\n",
              "  cancel.remove();\n",
              "\n",
              "  // Disable the input element since further picks are not allowed.\n",
              "  inputElement.disabled = true;\n",
              "\n",
              "  if (!files) {\n",
              "    return {\n",
              "      response: {\n",
              "        action: 'complete',\n",
              "      }\n",
              "    };\n",
              "  }\n",
              "\n",
              "  for (const file of files) {\n",
              "    const li = document.createElement('li');\n",
              "    li.append(span(file.name, {fontWeight: 'bold'}));\n",
              "    li.append(span(\n",
              "        `(${file.type || 'n/a'}) - ${file.size} bytes, ` +\n",
              "        `last modified: ${\n",
              "            file.lastModifiedDate ? file.lastModifiedDate.toLocaleDateString() :\n",
              "                                    'n/a'} - `));\n",
              "    const percent = span('0% done');\n",
              "    li.appendChild(percent);\n",
              "\n",
              "    outputElement.appendChild(li);\n",
              "\n",
              "    const fileDataPromise = new Promise((resolve) => {\n",
              "      const reader = new FileReader();\n",
              "      reader.onload = (e) => {\n",
              "        resolve(e.target.result);\n",
              "      };\n",
              "      reader.readAsArrayBuffer(file);\n",
              "    });\n",
              "    // Wait for the data to be ready.\n",
              "    let fileData = yield {\n",
              "      promise: fileDataPromise,\n",
              "      response: {\n",
              "        action: 'continue',\n",
              "      }\n",
              "    };\n",
              "\n",
              "    // Use a chunked sending to avoid message size limits. See b/62115660.\n",
              "    let position = 0;\n",
              "    do {\n",
              "      const length = Math.min(fileData.byteLength - position, MAX_PAYLOAD_SIZE);\n",
              "      const chunk = new Uint8Array(fileData, position, length);\n",
              "      position += length;\n",
              "\n",
              "      const base64 = btoa(String.fromCharCode.apply(null, chunk));\n",
              "      yield {\n",
              "        response: {\n",
              "          action: 'append',\n",
              "          file: file.name,\n",
              "          data: base64,\n",
              "        },\n",
              "      };\n",
              "\n",
              "      let percentDone = fileData.byteLength === 0 ?\n",
              "          100 :\n",
              "          Math.round((position / fileData.byteLength) * 100);\n",
              "      percent.textContent = `${percentDone}% done`;\n",
              "\n",
              "    } while (position < fileData.byteLength);\n",
              "  }\n",
              "\n",
              "  // All done.\n",
              "  yield {\n",
              "    response: {\n",
              "      action: 'complete',\n",
              "    }\n",
              "  };\n",
              "}\n",
              "\n",
              "scope.google = scope.google || {};\n",
              "scope.google.colab = scope.google.colab || {};\n",
              "scope.google.colab._files = {\n",
              "  _uploadFiles,\n",
              "  _uploadFilesContinue,\n",
              "};\n",
              "})(self);\n",
              "</script> "
            ],
            "text/plain": [
              "<IPython.core.display.HTML object>"
            ]
          },
          "metadata": {},
          "output_type": "display_data"
        },
        {
          "output_type": "stream",
          "name": "stdout",
          "text": [
            "Saving kaggle.json to kaggle.json\n",
            "Warning: Looks like you're using an outdated API Version, please consider updating (server 1.7.4 / client 1.6.17)\n",
            "Dataset URL: https://www.kaggle.com/datasets/jeffsinsel/nyc-fhvhv-data\n",
            "License(s): CC0-1.0\n",
            "Downloading nyc-fhvhv-data.zip to /content\n",
            "100% 17.8G/17.8G [03:34<00:00, 106MB/s]\n",
            "100% 17.8G/17.8G [03:34<00:00, 89.2MB/s]\n"
          ]
        }
      ],
      "source": [
        "#download from Kaggle\n",
        "! pip install -q kaggle\n",
        "from google.colab import files\n",
        "files.upload()\n",
        "! mkdir ~/.kaggle\n",
        "! cp kaggle.json ~/.kaggle/\n",
        "! chmod 600 ~/.kaggle/kaggle.json\n",
        "! kaggle datasets download -d jeffsinsel/nyc-fhvhv-data"
      ]
    },
    {
      "cell_type": "code",
      "source": [
        "#unzip files in nyc-fhvhv-data from Kaggle\n",
        "! unzip nyc-fhvhv-data.zip"
      ],
      "metadata": {
        "colab": {
          "base_uri": "https://localhost:8080/"
        },
        "id": "SPJjef6xU1TP",
        "outputId": "b0ae6e38-879d-4da9-81af-51523c2ae25a",
        "collapsed": true
      },
      "execution_count": 2,
      "outputs": [
        {
          "output_type": "stream",
          "name": "stdout",
          "text": [
            "Archive:  nyc-fhvhv-data.zip\n",
            "  inflating: data_dictionary_trip_records_hvfhs.pdf  \n",
            "  inflating: fhvhv_tripdata_2019-02.parquet  \n",
            "  inflating: fhvhv_tripdata_2019-03.parquet  \n",
            "  inflating: fhvhv_tripdata_2019-04.parquet  \n",
            "  inflating: fhvhv_tripdata_2019-05.parquet  \n",
            "  inflating: fhvhv_tripdata_2019-06.parquet  \n",
            "  inflating: fhvhv_tripdata_2019-07.parquet  \n",
            "  inflating: fhvhv_tripdata_2019-08.parquet  \n",
            "  inflating: fhvhv_tripdata_2019-09.parquet  \n",
            "  inflating: fhvhv_tripdata_2019-10.parquet  \n",
            "  inflating: fhvhv_tripdata_2019-11.parquet  \n",
            "  inflating: fhvhv_tripdata_2019-12.parquet  \n",
            "  inflating: fhvhv_tripdata_2020-01.parquet  \n",
            "  inflating: fhvhv_tripdata_2020-02.parquet  \n",
            "  inflating: fhvhv_tripdata_2020-03.parquet  \n",
            "  inflating: fhvhv_tripdata_2020-04.parquet  \n",
            "  inflating: fhvhv_tripdata_2020-05.parquet  \n",
            "  inflating: fhvhv_tripdata_2020-06.parquet  \n",
            "  inflating: fhvhv_tripdata_2020-07.parquet  \n",
            "  inflating: fhvhv_tripdata_2020-08.parquet  \n",
            "  inflating: fhvhv_tripdata_2020-09.parquet  \n",
            "  inflating: fhvhv_tripdata_2020-10.parquet  \n",
            "  inflating: fhvhv_tripdata_2020-11.parquet  \n",
            "  inflating: fhvhv_tripdata_2020-12.parquet  \n",
            "  inflating: fhvhv_tripdata_2021-01.parquet  \n",
            "  inflating: fhvhv_tripdata_2021-02.parquet  \n",
            "  inflating: fhvhv_tripdata_2021-03.parquet  \n",
            "  inflating: fhvhv_tripdata_2021-04.parquet  \n",
            "  inflating: fhvhv_tripdata_2021-05.parquet  \n",
            "  inflating: fhvhv_tripdata_2021-06.parquet  \n",
            "  inflating: fhvhv_tripdata_2021-07.parquet  \n",
            "  inflating: fhvhv_tripdata_2021-08.parquet  \n",
            "  inflating: fhvhv_tripdata_2021-09.parquet  \n",
            "  inflating: fhvhv_tripdata_2021-10.parquet  \n",
            "  inflating: fhvhv_tripdata_2021-11.parquet  \n",
            "  inflating: fhvhv_tripdata_2021-12.parquet  \n",
            "  inflating: fhvhv_tripdata_2022-01.parquet  \n",
            "  inflating: fhvhv_tripdata_2022-02.parquet  \n",
            "  inflating: fhvhv_tripdata_2022-03.parquet  \n",
            "  inflating: fhvhv_tripdata_2022-04.parquet  \n",
            "  inflating: fhvhv_tripdata_2022-05.parquet  \n",
            "  inflating: fhvhv_tripdata_2022-06.parquet  \n",
            "  inflating: fhvhv_tripdata_2022-07.parquet  \n",
            "  inflating: fhvhv_tripdata_2022-08.parquet  \n",
            "  inflating: fhvhv_tripdata_2022-09.parquet  \n",
            "  inflating: fhvhv_tripdata_2022-10.parquet  \n",
            "  inflating: fhvhv_tripdata_2022-11.parquet  \n",
            "  inflating: taxi+_zone_lookup.csv   \n",
            "  inflating: taxi_zone_map_bronx.jpg  \n",
            "  inflating: taxi_zone_map_brooklyn.jpg  \n",
            "  inflating: taxi_zone_map_manhattan.jpg  \n",
            "  inflating: taxi_zone_map_queens.jpg  \n",
            "  inflating: taxi_zone_map_staten_island.jpg  \n",
            "  inflating: taxi_zones/taxi_zones.dbf  \n",
            "  inflating: taxi_zones/taxi_zones.prj  \n",
            "  inflating: taxi_zones/taxi_zones.sbn  \n",
            "  inflating: taxi_zones/taxi_zones.sbx  \n",
            "  inflating: taxi_zones/taxi_zones.shp  \n",
            "  inflating: taxi_zones/taxi_zones.shp.xml  \n",
            "  inflating: taxi_zones/taxi_zones.shx  \n",
            "  inflating: trip_record_user_guide.pdf  \n",
            "  inflating: working_parquet_format.pdf  \n"
          ]
        }
      ]
    },
    {
      "cell_type": "code",
      "source": [
        "import pyspark.sql.functions as F\n",
        "from pyspark.sql import SparkSession\n",
        "import glob\n",
        "\n",
        "# initialize spark\n",
        "spark = SparkSession.builder.appName(\"NYC_Rides\").getOrCreate()\n",
        "\n",
        "# list of all parquet files from content folder\n",
        "parquet_files = glob.glob('/content/*.parquet')\n",
        "\n",
        "removed_summary = {}\n",
        "combined_df = None\n",
        "\n",
        "for file in parquet_files:\n",
        "    # read parquet files get features\n",
        "    df = spark.read.parquet(file).select(\n",
        "        \"Pickup_datetime\", \"DropOff_datetime\", \"PULocationID\",\n",
        "        \"DOLocationID\", \"base_passenger_fare\", \"trip_miles\"\n",
        "    )\n",
        "    initial_count = df.count()\n",
        "\n",
        "    # clean data\n",
        "    df_clean = df.filter(\n",
        "        (F.col(\"Hvfhs_license_num\").isNotNull()) &\n",
        "        (F.col(\"Pickup_datetime\").isNotNull()) &\n",
        "        (F.col(\"DropOff_datetime\").isNotNull()) &\n",
        "        (F.col(\"PULocationID\").isNotNull()) &\n",
        "        (F.col(\"DOLocationID\").isNotNull()) &\n",
        "        (F.col(\"base_passenger_fare\").isNotNull()) &\n",
        "        (F.col(\"trip_miles\").isNotNull()) &\n",
        "        (F.col(\"base_passenger_fare\") > 0) &\n",
        "        (F.col(\"trip_miles\") > 0)\n",
        "    )\n",
        "    clean_count = df_clean.count()\n",
        "    removed_summary[file] = initial_count - clean_count\n",
        "\n",
        "    # combine clean DFs into one big DF\n",
        "    if combined_df is None:\n",
        "        combined_df = df_clean\n",
        "    else:\n",
        "        combined_df = combined_df.union(df_clean)\n",
        "\n",
        "# check how many of which file were removed\n",
        "print(\"Removal Summary:\", removed_summary)"
      ],
      "metadata": {
        "colab": {
          "base_uri": "https://localhost:8080/"
        },
        "id": "DJpwGZouaL6X",
        "outputId": "862f32cb-7e83-4e35-e388-f6435a9ca291"
      },
      "execution_count": 3,
      "outputs": [
        {
          "output_type": "stream",
          "name": "stdout",
          "text": [
            "Removal Summary: {'/content/fhvhv_tripdata_2020-12.parquet': 19708, '/content/fhvhv_tripdata_2021-03.parquet': 31595, '/content/fhvhv_tripdata_2020-09.parquet': 20484, '/content/fhvhv_tripdata_2022-04.parquet': 23523, '/content/fhvhv_tripdata_2020-11.parquet': 17521, '/content/fhvhv_tripdata_2019-10.parquet': 66056, '/content/fhvhv_tripdata_2019-04.parquet': 89449, '/content/fhvhv_tripdata_2020-06.parquet': 14997, '/content/fhvhv_tripdata_2022-06.parquet': 29895, '/content/fhvhv_tripdata_2021-11.parquet': 42494, '/content/fhvhv_tripdata_2021-01.parquet': 17927, '/content/fhvhv_tripdata_2019-07.parquet': 729452, '/content/fhvhv_tripdata_2021-04.parquet': 41745, '/content/fhvhv_tripdata_2021-02.parquet': 31628, '/content/fhvhv_tripdata_2021-10.parquet': 40021, '/content/fhvhv_tripdata_2022-01.parquet': 28014, '/content/fhvhv_tripdata_2019-06.parquet': 58065, '/content/fhvhv_tripdata_2021-06.parquet': 55170, '/content/fhvhv_tripdata_2022-02.parquet': 29331, '/content/fhvhv_tripdata_2020-04.parquet': 7281, '/content/fhvhv_tripdata_2022-11.parquet': 21643, '/content/fhvhv_tripdata_2020-05.parquet': 12555, '/content/fhvhv_tripdata_2021-08.parquet': 32130, '/content/fhvhv_tripdata_2022-08.parquet': 28157, '/content/fhvhv_tripdata_2020-03.parquet': 24613, '/content/fhvhv_tripdata_2019-03.parquet': 87515, '/content/fhvhv_tripdata_2020-02.parquet': 43909, '/content/fhvhv_tripdata_2022-03.parquet': 23793, '/content/fhvhv_tripdata_2021-05.parquet': 35874, '/content/fhvhv_tripdata_2019-08.parquet': 2361131, '/content/fhvhv_tripdata_2021-12.parquet': 37485, '/content/fhvhv_tripdata_2020-08.parquet': 15740, '/content/fhvhv_tripdata_2022-09.parquet': 26106, '/content/fhvhv_tripdata_2021-07.parquet': 36000, '/content/fhvhv_tripdata_2019-05.parquet': 74542, '/content/fhvhv_tripdata_2019-02.parquet': 95502, '/content/fhvhv_tripdata_2019-11.parquet': 62291, '/content/fhvhv_tripdata_2019-12.parquet': 478644, '/content/fhvhv_tripdata_2022-07.parquet': 22991, '/content/fhvhv_tripdata_2021-09.parquet': 44089, '/content/fhvhv_tripdata_2022-10.parquet': 30588, '/content/fhvhv_tripdata_2020-10.parquet': 21697, '/content/fhvhv_tripdata_2019-09.parquet': 73973, '/content/fhvhv_tripdata_2022-05.parquet': 30597, '/content/fhvhv_tripdata_2020-07.parquet': 12086, '/content/fhvhv_tripdata_2020-01.parquet': 163837}\n"
          ]
        }
      ]
    },
    {
      "cell_type": "code",
      "source": [
        "# calculate how many total rows of data were removed\n",
        "tot = 0\n",
        "for key,val in removed_summary.items():\n",
        "  tot += int(val)\n",
        "\n",
        "count = combined_df.count()\n",
        "percent_removed = tot/count * 100\n",
        "\n",
        "print(\"{}% was removed from a total of {} rides in 46 months\".format(percent_removed, count))"
      ],
      "metadata": {
        "colab": {
          "base_uri": "https://localhost:8080/"
        },
        "id": "v_VA9Ju4l4lr",
        "outputId": "34ab9cdb-d033-482f-f63a-20b960a950f0"
      },
      "execution_count": 4,
      "outputs": [
        {
          "output_type": "stream",
          "name": "stdout",
          "text": [
            "0.7151187129558313% was removed from a total of 739995179 rides in 46 months\n"
          ]
        }
      ]
    },
    {
      "cell_type": "code",
      "source": [
        "# show schema\n",
        "combined_df.printSchema()"
      ],
      "metadata": {
        "colab": {
          "base_uri": "https://localhost:8080/"
        },
        "id": "1ygnjutsS5J1",
        "outputId": "f544c8cb-520a-4917-bc28-13ceb463e31c"
      },
      "execution_count": 5,
      "outputs": [
        {
          "output_type": "stream",
          "name": "stdout",
          "text": [
            "root\n",
            " |-- Pickup_datetime: timestamp_ntz (nullable = true)\n",
            " |-- DropOff_datetime: timestamp_ntz (nullable = true)\n",
            " |-- PULocationID: long (nullable = true)\n",
            " |-- DOLocationID: long (nullable = true)\n",
            " |-- base_passenger_fare: double (nullable = true)\n",
            " |-- trip_miles: double (nullable = true)\n",
            "\n"
          ]
        }
      ]
    }
  ]
}