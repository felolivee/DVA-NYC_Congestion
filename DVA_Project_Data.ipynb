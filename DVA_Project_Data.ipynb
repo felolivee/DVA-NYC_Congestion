{
  "cells": [
    {
      "cell_type": "code",
      "execution_count": null,
      "metadata": {
        "colab": {
          "base_uri": "https://localhost:8080/",
          "height": 176
        },
        "collapsed": true,
        "id": "TKiGw5VbRQGv",
        "outputId": "0bca5f49-fcd6-47e6-f614-42a635c8571f"
      },
      "outputs": [
        {
          "output_type": "display_data",
          "data": {
            "text/plain": [
              "<IPython.core.display.HTML object>"
            ],
            "text/html": [
              "\n",
              "     <input type=\"file\" id=\"files-b60a8405-81e2-419e-b229-2f4f71433626\" name=\"files[]\" multiple disabled\n",
              "        style=\"border:none\" />\n",
              "     <output id=\"result-b60a8405-81e2-419e-b229-2f4f71433626\">\n",
              "      Upload widget is only available when the cell has been executed in the\n",
              "      current browser session. Please rerun this cell to enable.\n",
              "      </output>\n",
              "      <script>// Copyright 2017 Google LLC\n",
              "//\n",
              "// Licensed under the Apache License, Version 2.0 (the \"License\");\n",
              "// you may not use this file except in compliance with the License.\n",
              "// You may obtain a copy of the License at\n",
              "//\n",
              "//      http://www.apache.org/licenses/LICENSE-2.0\n",
              "//\n",
              "// Unless required by applicable law or agreed to in writing, software\n",
              "// distributed under the License is distributed on an \"AS IS\" BASIS,\n",
              "// WITHOUT WARRANTIES OR CONDITIONS OF ANY KIND, either express or implied.\n",
              "// See the License for the specific language governing permissions and\n",
              "// limitations under the License.\n",
              "\n",
              "/**\n",
              " * @fileoverview Helpers for google.colab Python module.\n",
              " */\n",
              "(function(scope) {\n",
              "function span(text, styleAttributes = {}) {\n",
              "  const element = document.createElement('span');\n",
              "  element.textContent = text;\n",
              "  for (const key of Object.keys(styleAttributes)) {\n",
              "    element.style[key] = styleAttributes[key];\n",
              "  }\n",
              "  return element;\n",
              "}\n",
              "\n",
              "// Max number of bytes which will be uploaded at a time.\n",
              "const MAX_PAYLOAD_SIZE = 100 * 1024;\n",
              "\n",
              "function _uploadFiles(inputId, outputId) {\n",
              "  const steps = uploadFilesStep(inputId, outputId);\n",
              "  const outputElement = document.getElementById(outputId);\n",
              "  // Cache steps on the outputElement to make it available for the next call\n",
              "  // to uploadFilesContinue from Python.\n",
              "  outputElement.steps = steps;\n",
              "\n",
              "  return _uploadFilesContinue(outputId);\n",
              "}\n",
              "\n",
              "// This is roughly an async generator (not supported in the browser yet),\n",
              "// where there are multiple asynchronous steps and the Python side is going\n",
              "// to poll for completion of each step.\n",
              "// This uses a Promise to block the python side on completion of each step,\n",
              "// then passes the result of the previous step as the input to the next step.\n",
              "function _uploadFilesContinue(outputId) {\n",
              "  const outputElement = document.getElementById(outputId);\n",
              "  const steps = outputElement.steps;\n",
              "\n",
              "  const next = steps.next(outputElement.lastPromiseValue);\n",
              "  return Promise.resolve(next.value.promise).then((value) => {\n",
              "    // Cache the last promise value to make it available to the next\n",
              "    // step of the generator.\n",
              "    outputElement.lastPromiseValue = value;\n",
              "    return next.value.response;\n",
              "  });\n",
              "}\n",
              "\n",
              "/**\n",
              " * Generator function which is called between each async step of the upload\n",
              " * process.\n",
              " * @param {string} inputId Element ID of the input file picker element.\n",
              " * @param {string} outputId Element ID of the output display.\n",
              " * @return {!Iterable<!Object>} Iterable of next steps.\n",
              " */\n",
              "function* uploadFilesStep(inputId, outputId) {\n",
              "  const inputElement = document.getElementById(inputId);\n",
              "  inputElement.disabled = false;\n",
              "\n",
              "  const outputElement = document.getElementById(outputId);\n",
              "  outputElement.innerHTML = '';\n",
              "\n",
              "  const pickedPromise = new Promise((resolve) => {\n",
              "    inputElement.addEventListener('change', (e) => {\n",
              "      resolve(e.target.files);\n",
              "    });\n",
              "  });\n",
              "\n",
              "  const cancel = document.createElement('button');\n",
              "  inputElement.parentElement.appendChild(cancel);\n",
              "  cancel.textContent = 'Cancel upload';\n",
              "  const cancelPromise = new Promise((resolve) => {\n",
              "    cancel.onclick = () => {\n",
              "      resolve(null);\n",
              "    };\n",
              "  });\n",
              "\n",
              "  // Wait for the user to pick the files.\n",
              "  const files = yield {\n",
              "    promise: Promise.race([pickedPromise, cancelPromise]),\n",
              "    response: {\n",
              "      action: 'starting',\n",
              "    }\n",
              "  };\n",
              "\n",
              "  cancel.remove();\n",
              "\n",
              "  // Disable the input element since further picks are not allowed.\n",
              "  inputElement.disabled = true;\n",
              "\n",
              "  if (!files) {\n",
              "    return {\n",
              "      response: {\n",
              "        action: 'complete',\n",
              "      }\n",
              "    };\n",
              "  }\n",
              "\n",
              "  for (const file of files) {\n",
              "    const li = document.createElement('li');\n",
              "    li.append(span(file.name, {fontWeight: 'bold'}));\n",
              "    li.append(span(\n",
              "        `(${file.type || 'n/a'}) - ${file.size} bytes, ` +\n",
              "        `last modified: ${\n",
              "            file.lastModifiedDate ? file.lastModifiedDate.toLocaleDateString() :\n",
              "                                    'n/a'} - `));\n",
              "    const percent = span('0% done');\n",
              "    li.appendChild(percent);\n",
              "\n",
              "    outputElement.appendChild(li);\n",
              "\n",
              "    const fileDataPromise = new Promise((resolve) => {\n",
              "      const reader = new FileReader();\n",
              "      reader.onload = (e) => {\n",
              "        resolve(e.target.result);\n",
              "      };\n",
              "      reader.readAsArrayBuffer(file);\n",
              "    });\n",
              "    // Wait for the data to be ready.\n",
              "    let fileData = yield {\n",
              "      promise: fileDataPromise,\n",
              "      response: {\n",
              "        action: 'continue',\n",
              "      }\n",
              "    };\n",
              "\n",
              "    // Use a chunked sending to avoid message size limits. See b/62115660.\n",
              "    let position = 0;\n",
              "    do {\n",
              "      const length = Math.min(fileData.byteLength - position, MAX_PAYLOAD_SIZE);\n",
              "      const chunk = new Uint8Array(fileData, position, length);\n",
              "      position += length;\n",
              "\n",
              "      const base64 = btoa(String.fromCharCode.apply(null, chunk));\n",
              "      yield {\n",
              "        response: {\n",
              "          action: 'append',\n",
              "          file: file.name,\n",
              "          data: base64,\n",
              "        },\n",
              "      };\n",
              "\n",
              "      let percentDone = fileData.byteLength === 0 ?\n",
              "          100 :\n",
              "          Math.round((position / fileData.byteLength) * 100);\n",
              "      percent.textContent = `${percentDone}% done`;\n",
              "\n",
              "    } while (position < fileData.byteLength);\n",
              "  }\n",
              "\n",
              "  // All done.\n",
              "  yield {\n",
              "    response: {\n",
              "      action: 'complete',\n",
              "    }\n",
              "  };\n",
              "}\n",
              "\n",
              "scope.google = scope.google || {};\n",
              "scope.google.colab = scope.google.colab || {};\n",
              "scope.google.colab._files = {\n",
              "  _uploadFiles,\n",
              "  _uploadFilesContinue,\n",
              "};\n",
              "})(self);\n",
              "</script> "
            ]
          },
          "metadata": {}
        },
        {
          "output_type": "stream",
          "name": "stdout",
          "text": [
            "Saving kaggle.json to kaggle.json\n",
            "Warning: Looks like you're using an outdated API Version, please consider updating (server 1.7.4.2 / client 1.6.17)\n",
            "Dataset URL: https://www.kaggle.com/datasets/jeffsinsel/nyc-fhvhv-data\n",
            "License(s): CC0-1.0\n",
            "Downloading nyc-fhvhv-data.zip to /content\n",
            "100% 17.8G/17.8G [11:13<00:00, 29.2MB/s]\n",
            "100% 17.8G/17.8G [11:13<00:00, 28.5MB/s]\n"
          ]
        }
      ],
      "source": [
        "#download from Kaggle\n",
        "! pip install -q kaggle\n",
        "from google.colab import files\n",
        "files.upload()\n",
        "! mkdir ~/.kaggle\n",
        "! cp kaggle.json ~/.kaggle/\n",
        "! chmod 600 ~/.kaggle/kaggle.json\n",
        "! kaggle datasets download -d jeffsinsel/nyc-fhvhv-data"
      ]
    },
    {
      "cell_type": "code",
      "execution_count": null,
      "metadata": {
        "colab": {
          "base_uri": "https://localhost:8080/"
        },
        "collapsed": true,
        "id": "SPJjef6xU1TP",
        "outputId": "fbdfde12-98dc-4d4c-efad-55b956f1ac89"
      },
      "outputs": [
        {
          "output_type": "stream",
          "name": "stdout",
          "text": [
            "Archive:  nyc-fhvhv-data.zip\n",
            "  inflating: data_dictionary_trip_records_hvfhs.pdf  \n",
            "  inflating: fhvhv_tripdata_2019-02.parquet  \n",
            "  inflating: fhvhv_tripdata_2019-03.parquet  \n",
            "  inflating: fhvhv_tripdata_2019-04.parquet  \n",
            "  inflating: fhvhv_tripdata_2019-05.parquet  \n",
            "  inflating: fhvhv_tripdata_2019-06.parquet  \n",
            "  inflating: fhvhv_tripdata_2019-07.parquet  \n",
            "  inflating: fhvhv_tripdata_2019-08.parquet  \n",
            "  inflating: fhvhv_tripdata_2019-09.parquet  \n",
            "  inflating: fhvhv_tripdata_2019-10.parquet  \n",
            "  inflating: fhvhv_tripdata_2019-11.parquet  \n",
            "  inflating: fhvhv_tripdata_2019-12.parquet  \n",
            "  inflating: fhvhv_tripdata_2020-01.parquet  \n",
            "  inflating: fhvhv_tripdata_2020-02.parquet  \n",
            "  inflating: fhvhv_tripdata_2020-03.parquet  \n",
            "  inflating: fhvhv_tripdata_2020-04.parquet  \n",
            "  inflating: fhvhv_tripdata_2020-05.parquet  \n",
            "  inflating: fhvhv_tripdata_2020-06.parquet  \n",
            "  inflating: fhvhv_tripdata_2020-07.parquet  \n",
            "  inflating: fhvhv_tripdata_2020-08.parquet  \n",
            "  inflating: fhvhv_tripdata_2020-09.parquet  \n",
            "  inflating: fhvhv_tripdata_2020-10.parquet  \n",
            "  inflating: fhvhv_tripdata_2020-11.parquet  \n",
            "  inflating: fhvhv_tripdata_2020-12.parquet  \n",
            "  inflating: fhvhv_tripdata_2021-01.parquet  \n",
            "  inflating: fhvhv_tripdata_2021-02.parquet  \n",
            "  inflating: fhvhv_tripdata_2021-03.parquet  \n",
            "  inflating: fhvhv_tripdata_2021-04.parquet  \n",
            "  inflating: fhvhv_tripdata_2021-05.parquet  \n",
            "  inflating: fhvhv_tripdata_2021-06.parquet  \n",
            "  inflating: fhvhv_tripdata_2021-07.parquet  \n",
            "  inflating: fhvhv_tripdata_2021-08.parquet  \n",
            "  inflating: fhvhv_tripdata_2021-09.parquet  \n",
            "  inflating: fhvhv_tripdata_2021-10.parquet  \n",
            "  inflating: fhvhv_tripdata_2021-11.parquet  \n",
            "  inflating: fhvhv_tripdata_2021-12.parquet  \n",
            "  inflating: fhvhv_tripdata_2022-01.parquet  \n",
            "  inflating: fhvhv_tripdata_2022-02.parquet  \n",
            "  inflating: fhvhv_tripdata_2022-03.parquet  \n",
            "  inflating: fhvhv_tripdata_2022-04.parquet  \n",
            "  inflating: fhvhv_tripdata_2022-05.parquet  \n",
            "  inflating: fhvhv_tripdata_2022-06.parquet  \n",
            "  inflating: fhvhv_tripdata_2022-07.parquet  \n",
            "  inflating: fhvhv_tripdata_2022-08.parquet  \n",
            "  inflating: fhvhv_tripdata_2022-09.parquet  \n",
            "  inflating: fhvhv_tripdata_2022-10.parquet  \n",
            "  inflating: fhvhv_tripdata_2022-11.parquet  \n",
            "  inflating: taxi+_zone_lookup.csv   \n",
            "  inflating: taxi_zone_map_bronx.jpg  \n",
            "  inflating: taxi_zone_map_brooklyn.jpg  \n",
            "  inflating: taxi_zone_map_manhattan.jpg  \n",
            "  inflating: taxi_zone_map_queens.jpg  \n",
            "  inflating: taxi_zone_map_staten_island.jpg  \n",
            "  inflating: taxi_zones/taxi_zones.dbf  \n",
            "  inflating: taxi_zones/taxi_zones.prj  \n",
            "  inflating: taxi_zones/taxi_zones.sbn  \n",
            "  inflating: taxi_zones/taxi_zones.sbx  \n",
            "  inflating: taxi_zones/taxi_zones.shp  \n",
            "  inflating: taxi_zones/taxi_zones.shp.xml  \n",
            "  inflating: taxi_zones/taxi_zones.shx  \n",
            "  inflating: trip_record_user_guide.pdf  \n",
            "  inflating: working_parquet_format.pdf  \n"
          ]
        }
      ],
      "source": [
        "#unzip files in nyc-fhvhv-data from Kaggle\n",
        "! unzip nyc-fhvhv-data.zip"
      ]
    },
    {
      "cell_type": "code",
      "execution_count": null,
      "metadata": {
        "colab": {
          "base_uri": "https://localhost:8080/"
        },
        "id": "DJpwGZouaL6X",
        "outputId": "f4bd2f16-b33e-4e2f-aac1-47fdae381829"
      },
      "outputs": [
        {
          "output_type": "stream",
          "name": "stdout",
          "text": [
            "Removal Summary: {'/content/fhvhv_tripdata_2021-11.parquet': 97481, '/content/fhvhv_tripdata_2019-02.parquet': 2269891, '/content/fhvhv_tripdata_2021-06.parquet': 155107, '/content/fhvhv_tripdata_2020-12.parquet': 104215, '/content/fhvhv_tripdata_2022-06.parquet': 87529, '/content/fhvhv_tripdata_2022-08.parquet': 83152, '/content/fhvhv_tripdata_2020-06.parquet': 110413, '/content/fhvhv_tripdata_2020-05.parquet': 78979, '/content/fhvhv_tripdata_2020-10.parquet': 130980, '/content/fhvhv_tripdata_2022-03.parquet': 84930, '/content/fhvhv_tripdata_2020-03.parquet': 949378, '/content/fhvhv_tripdata_2019-10.parquet': 2486406, '/content/fhvhv_tripdata_2019-05.parquet': 2197902, '/content/fhvhv_tripdata_2021-12.parquet': 94795, '/content/fhvhv_tripdata_2021-09.parquet': 134529, '/content/fhvhv_tripdata_2021-10.parquet': 104918, '/content/fhvhv_tripdata_2019-09.parquet': 2193661, '/content/fhvhv_tripdata_2019-08.parquet': 4465149, '/content/fhvhv_tripdata_2019-12.parquet': 2247128, '/content/fhvhv_tripdata_2021-04.parquet': 143913, '/content/fhvhv_tripdata_2020-09.parquet': 132524, '/content/fhvhv_tripdata_2021-01.parquet': 103408, '/content/fhvhv_tripdata_2022-02.parquet': 84755, '/content/fhvhv_tripdata_2020-04.parquet': 69415, '/content/fhvhv_tripdata_2022-01.parquet': 77981, '/content/fhvhv_tripdata_2020-11.parquet': 103002, '/content/fhvhv_tripdata_2022-10.parquet': 159570, '/content/fhvhv_tripdata_2021-05.parquet': 142950, '/content/fhvhv_tripdata_2021-08.parquet': 130783, '/content/fhvhv_tripdata_2020-07.parquet': 188921, '/content/fhvhv_tripdata_2022-04.parquet': 82929, '/content/fhvhv_tripdata_2021-03.parquet': 140061, '/content/fhvhv_tripdata_2022-11.parquet': 323983, '/content/fhvhv_tripdata_2021-02.parquet': 123443, '/content/fhvhv_tripdata_2019-06.parquet': 2174047, '/content/fhvhv_tripdata_2021-07.parquet': 140020, '/content/fhvhv_tripdata_2020-01.parquet': 2120334, '/content/fhvhv_tripdata_2022-09.parquet': 85805, '/content/fhvhv_tripdata_2019-03.parquet': 2346635, '/content/fhvhv_tripdata_2019-07.parquet': 2783564, '/content/fhvhv_tripdata_2022-07.parquet': 77160, '/content/fhvhv_tripdata_2020-08.parquet': 135659, '/content/fhvhv_tripdata_2020-02.parquet': 2034127, '/content/fhvhv_tripdata_2019-11.parquet': 2343369, '/content/fhvhv_tripdata_2022-05.parquet': 91469, '/content/fhvhv_tripdata_2019-04.parquet': 2150489}\n"
          ]
        }
      ],
      "source": [
        "import pyspark.sql.functions as F\n",
        "from pyspark.sql import SparkSession\n",
        "import glob\n",
        "\n",
        "# initialize spark\n",
        "spark = SparkSession.builder.appName(\"NYC_Rides\").getOrCreate()\n",
        "\n",
        "# list of all parquet files from content folder\n",
        "parquet_files = glob.glob('/content/*.parquet')\n",
        "\n",
        "removed_summary = {}\n",
        "combined_df = None\n",
        "\n",
        "for file in parquet_files:\n",
        "    # read parquet files get features\n",
        "    df = spark.read.parquet(file).select(\n",
        "        \"Pickup_datetime\", \"DropOff_datetime\", \"PULocationID\", \"DOLocationID\",\n",
        "        \"base_passenger_fare\", \"trip_miles\", \"tips\", \"driver_pay\", \"trip_time\",\n",
        "        \"Hvfhs_license_num\"\n",
        "    )\n",
        "\n",
        "    initial_count = df.count()\n",
        "\n",
        "    # Clean data by filtering out null and invalid values\n",
        "    df_clean = df.filter(\n",
        "        (F.col(\"Pickup_datetime\").isNotNull()) &\n",
        "        (F.col(\"DropOff_datetime\").isNotNull()) &\n",
        "        (F.col(\"PULocationID\").isNotNull()) &\n",
        "        (F.col(\"DOLocationID\").isNotNull()) &\n",
        "        (F.col(\"base_passenger_fare\").isNotNull()) &\n",
        "        (F.col(\"trip_miles\").isNotNull()) &\n",
        "        (F.col(\"tips\").isNotNull()) &\n",
        "        (F.col(\"driver_pay\").isNotNull()) &\n",
        "        (F.col(\"trip_time\").isNotNull()) &\n",
        "        (F.col(\"Hvfhs_license_num\").isNotNull()) &\n",
        "\n",
        "        # Ensure numeric columns have valid positive values\n",
        "        (F.col(\"base_passenger_fare\") > 0) &\n",
        "        (F.col(\"trip_miles\") > 0) &\n",
        "        (F.col(\"driver_pay\") > 0) &\n",
        "        (F.col(\"trip_time\") > 0)\n",
        "    )\n",
        "\n",
        "    clean_count = df_clean.count()\n",
        "    removed_summary[file] = initial_count - clean_count\n",
        "\n",
        "    # combine clean DFs into one big DF\n",
        "    if combined_df is None:\n",
        "        combined_df = df_clean\n",
        "    else:\n",
        "        combined_df = combined_df.union(df_clean)\n",
        "\n",
        "# check how many of which file were removed\n",
        "print(\"Removal Summary:\", removed_summary)"
      ]
    },
    {
      "cell_type": "code",
      "execution_count": null,
      "metadata": {
        "colab": {
          "base_uri": "https://localhost:8080/"
        },
        "id": "v_VA9Ju4l4lr",
        "outputId": "54a63d9a-a13e-421e-f1d9-93cf74a33281"
      },
      "outputs": [
        {
          "output_type": "stream",
          "name": "stdout",
          "text": [
            "5.159562385472075% was removed from a total of 708720164 rides in 46 months\n"
          ]
        }
      ],
      "source": [
        "# calculate how many total rows of data were removed\n",
        "tot = 0\n",
        "for key,val in removed_summary.items():\n",
        "  tot += int(val)\n",
        "\n",
        "count = combined_df.count()\n",
        "percent_removed = tot/count * 100\n",
        "\n",
        "print(\"{}% was removed from a total of {} rides in 46 months\".format(percent_removed, count))"
      ]
    },
    {
      "cell_type": "code",
      "source": [
        "!pip install category_encoders\n"
      ],
      "metadata": {
        "colab": {
          "base_uri": "https://localhost:8080/"
        },
        "id": "nCTcblxHUWBs",
        "outputId": "bd4b3f14-be82-4321-8c2c-c37ff4afd911"
      },
      "execution_count": null,
      "outputs": [
        {
          "output_type": "stream",
          "name": "stdout",
          "text": [
            "Collecting category_encoders\n",
            "  Downloading category_encoders-2.8.1-py3-none-any.whl.metadata (7.9 kB)\n",
            "Requirement already satisfied: numpy>=1.14.0 in /usr/local/lib/python3.11/dist-packages (from category_encoders) (2.0.2)\n",
            "Requirement already satisfied: pandas>=1.0.5 in /usr/local/lib/python3.11/dist-packages (from category_encoders) (2.2.2)\n",
            "Requirement already satisfied: patsy>=0.5.1 in /usr/local/lib/python3.11/dist-packages (from category_encoders) (1.0.1)\n",
            "Requirement already satisfied: scikit-learn>=1.6.0 in /usr/local/lib/python3.11/dist-packages (from category_encoders) (1.6.1)\n",
            "Requirement already satisfied: scipy>=1.0.0 in /usr/local/lib/python3.11/dist-packages (from category_encoders) (1.14.1)\n",
            "Requirement already satisfied: statsmodels>=0.9.0 in /usr/local/lib/python3.11/dist-packages (from category_encoders) (0.14.4)\n",
            "Requirement already satisfied: python-dateutil>=2.8.2 in /usr/local/lib/python3.11/dist-packages (from pandas>=1.0.5->category_encoders) (2.8.2)\n",
            "Requirement already satisfied: pytz>=2020.1 in /usr/local/lib/python3.11/dist-packages (from pandas>=1.0.5->category_encoders) (2025.1)\n",
            "Requirement already satisfied: tzdata>=2022.7 in /usr/local/lib/python3.11/dist-packages (from pandas>=1.0.5->category_encoders) (2025.1)\n",
            "Requirement already satisfied: joblib>=1.2.0 in /usr/local/lib/python3.11/dist-packages (from scikit-learn>=1.6.0->category_encoders) (1.4.2)\n",
            "Requirement already satisfied: threadpoolctl>=3.1.0 in /usr/local/lib/python3.11/dist-packages (from scikit-learn>=1.6.0->category_encoders) (3.6.0)\n",
            "Requirement already satisfied: packaging>=21.3 in /usr/local/lib/python3.11/dist-packages (from statsmodels>=0.9.0->category_encoders) (24.2)\n",
            "Requirement already satisfied: six>=1.5 in /usr/local/lib/python3.11/dist-packages (from python-dateutil>=2.8.2->pandas>=1.0.5->category_encoders) (1.17.0)\n",
            "Downloading category_encoders-2.8.1-py3-none-any.whl (85 kB)\n",
            "\u001b[2K   \u001b[90m━━━━━━━━━━━━━━━━━━━━━━━━━━━━━━━━━━━━━━━━\u001b[0m \u001b[32m85.7/85.7 kB\u001b[0m \u001b[31m1.7 MB/s\u001b[0m eta \u001b[36m0:00:00\u001b[0m\n",
            "\u001b[?25hInstalling collected packages: category_encoders\n",
            "Successfully installed category_encoders-2.8.1\n"
          ]
        }
      ]
    },
    {
      "cell_type": "code",
      "execution_count": null,
      "metadata": {
        "id": "2ZxUPzW78ymN"
      },
      "outputs": [],
      "source": [
        "from pyspark.sql.functions import hour\n",
        "\n",
        "# Extract Hour from Pickup_datetime\n",
        "combined_df = combined_df.withColumn(\"hour\", hour(\"Pickup_datetime\"))\n"
      ]
    },
    {
      "cell_type": "code",
      "execution_count": null,
      "metadata": {
        "colab": {
          "base_uri": "https://localhost:8080/"
        },
        "id": "YiOTJF734Czl",
        "outputId": "7951c9df-d04a-4bba-8e57-955b438f8112"
      },
      "outputs": [
        {
          "output_type": "stream",
          "name": "stdout",
          "text": [
            "+-------------------+-------------------+------------+------------+-------------------+----------+----+----------+---------+-----------------+----+\n",
            "|    Pickup_datetime|   DropOff_datetime|PULocationID|DOLocationID|base_passenger_fare|trip_miles|tips|driver_pay|trip_time|Hvfhs_license_num|hour|\n",
            "+-------------------+-------------------+------------+------------+-------------------+----------+----+----------+---------+-----------------+----+\n",
            "|2021-11-01 00:00:52|2021-11-01 00:07:05|         225|          37|               7.91|      1.11| 0.0|      8.41|      373|           HV0003|   0|\n",
            "|2021-11-01 00:12:43|2021-11-01 00:33:16|          36|         124|              25.73|      5.52| 0.0|     19.43|     1233|           HV0003|   0|\n",
            "|2021-11-01 00:41:42|2021-11-01 00:48:36|         132|         216|               7.91|      1.62| 0.0|      8.42|      414|           HV0003|   0|\n",
            "|2021-11-01 00:55:56|2021-11-01 01:04:54|         216|         258|              11.17|      2.54| 0.0|     10.33|      538|           HV0003|   0|\n",
            "|2021-11-01 00:15:05|2021-11-01 00:19:32|         211|          87|              23.74|      1.16| 0.0|      20.3|      267|           HV0003|   0|\n",
            "+-------------------+-------------------+------------+------------+-------------------+----------+----+----------+---------+-----------------+----+\n",
            "only showing top 5 rows\n",
            "\n",
            "root\n",
            " |-- Pickup_datetime: timestamp_ntz (nullable = true)\n",
            " |-- DropOff_datetime: timestamp_ntz (nullable = true)\n",
            " |-- PULocationID: long (nullable = true)\n",
            " |-- DOLocationID: long (nullable = true)\n",
            " |-- base_passenger_fare: double (nullable = true)\n",
            " |-- trip_miles: double (nullable = true)\n",
            " |-- tips: double (nullable = true)\n",
            " |-- driver_pay: double (nullable = true)\n",
            " |-- trip_time: long (nullable = true)\n",
            " |-- Hvfhs_license_num: string (nullable = true)\n",
            " |-- hour: integer (nullable = true)\n",
            "\n"
          ]
        }
      ],
      "source": [
        "combined_df.show(5)\n",
        "combined_df.printSchema()"
      ]
    },
    {
      "cell_type": "code",
      "execution_count": null,
      "metadata": {
        "id": "m6cM6cF-83pc"
      },
      "outputs": [],
      "source": [
        "from pyspark.sql.functions import col, sum, min\n",
        "\n",
        "# Group by Pickup Zone, Hour, and Ride-Hailing Company to Aggregate Driver Pay\n",
        "df_grouped = combined_df.groupBy(\"PULocationID\", \"hour\", \"Hvfhs_license_num\").agg(\n",
        "    sum(\"driver_pay\").alias(\"total_driver_pay\"),\n",
        "    sum(\"tips\").alias(\"total_tips\"),\n",
        "    sum(\"trip_miles\").alias(\"total_miles\"),\n",
        "    sum(\"trip_time\").alias(\"total_time_seconds\"),\n",
        "    sum(\"base_passenger_fare\").alias(\"total_base_fare\"),\n",
        "    min(\"Pickup_datetime\").alias(\"earliest_pickup_time\")\n",
        ")\n"
      ]
    },
    {
      "cell_type": "code",
      "execution_count": null,
      "metadata": {
        "id": "e9ON6rMF9Pew"
      },
      "outputs": [],
      "source": [
        "import pandas as pd\n",
        "\n",
        "# Convert to Pandas dataframe\n",
        "\n",
        "df = df_grouped.toPandas()\n",
        "\n"
      ]
    },
    {
      "cell_type": "code",
      "execution_count": null,
      "metadata": {
        "colab": {
          "base_uri": "https://localhost:8080/"
        },
        "id": "1K1COQ3Q5_oZ",
        "outputId": "d78311a7-f2dd-4d85-c3a2-dd7ef5174c3d"
      },
      "outputs": [
        {
          "output_type": "stream",
          "name": "stderr",
          "text": [
            "<ipython-input-10-ef0bd056a7ae>:14: FutureWarning: A value is trying to be set on a copy of a DataFrame or Series through chained assignment using an inplace method.\n",
            "The behavior will change in pandas 3.0. This inplace method will never work because the intermediate object on which we are setting values always behaves as a copy.\n",
            "\n",
            "For example, when doing 'df[col].method(value, inplace=True)', try using 'df.method({col: value}, inplace=True)' or df[col] = df[col].method(value) instead, to perform the operation inplace on the original object.\n",
            "\n",
            "\n",
            "  df_pandas[\"total_time_hours\"].replace(0, np.nan, inplace=True)\n"
          ]
        }
      ],
      "source": [
        "import numpy as np\n",
        "\n",
        "df_pandas = df.copy()\n",
        "\n",
        "# Add relevant variables to dataframe\n",
        "df_pandas[\"earliest_pickup_time\"] = pd.to_datetime(df_pandas[\"earliest_pickup_time\"])\n",
        "df_pandas[\"day_of_week\"] = df_pandas[\"earliest_pickup_time\"].dt.dayofweek\n",
        "df_pandas[\"is_weekend\"] = df_pandas[\"day_of_week\"].isin([5, 6]).astype(int)\n",
        "\n",
        "# Convert trip time from seconds to hours\n",
        "df_pandas[\"total_time_hours\"] = df_pandas[\"total_time_seconds\"] / 3600\n",
        "\n",
        "# Handle division by zero\n",
        "df_pandas[\"total_time_hours\"].replace(0, np.nan, inplace=True)\n",
        "\n",
        "# Compute total driver earnings (including tips)\n",
        "df_pandas[\"total_driver_earnings\"] = df_pandas[\"total_driver_pay\"] + df_pandas[\"total_tips\"]\n",
        "\n",
        "# Compute earnings per hour\n",
        "df_pandas[\"earnings_per_hour\"] = df_pandas[\"total_driver_earnings\"] / df_pandas[\"total_time_hours\"]"
      ]
    },
    {
      "cell_type": "code",
      "execution_count": null,
      "metadata": {
        "colab": {
          "base_uri": "https://localhost:8080/"
        },
        "id": "dDPePuiBxgUG",
        "outputId": "236eb9c1-9a29-4b7d-9fac-25ff3fd25daa"
      },
      "outputs": [
        {
          "output_type": "execute_result",
          "data": {
            "text/plain": [
              "['PULocationID',\n",
              " 'hour',\n",
              " 'Hvfhs_license_num',\n",
              " 'total_driver_pay',\n",
              " 'total_tips',\n",
              " 'total_miles',\n",
              " 'total_time_seconds',\n",
              " 'total_base_fare',\n",
              " 'earliest_pickup_time',\n",
              " 'day_of_week',\n",
              " 'is_weekend',\n",
              " 'total_time_hours',\n",
              " 'total_driver_earnings',\n",
              " 'earnings_per_hour']"
            ]
          },
          "metadata": {},
          "execution_count": 11
        }
      ],
      "source": [
        "df_pandas.columns.tolist()"
      ]
    },
    {
      "cell_type": "code",
      "execution_count": null,
      "metadata": {
        "id": "uhuz5ng-93Lj"
      },
      "outputs": [],
      "source": [
        "from sklearn.model_selection import train_test_split\n",
        "from sklearn.preprocessing import OneHotEncoder\n",
        "\n",
        "# Set X and y variable to predict driver earnings\n",
        "X = df_pandas.drop(columns=[\"total_driver_earnings\", \"earnings_per_hour\", \"earliest_pickup_time\", \"total_driver_pay\", \"total_time_seconds\"])\n",
        "y = df_pandas[\"earnings_per_hour\"]\n",
        "\n",
        "# Encode PULocationID using target mean encoding\n",
        "pulo_mean = df_pandas.groupby(\"PULocationID\")[\"earnings_per_hour\"].mean()\n",
        "df_pandas[\"PULocationID_encoded\"] = df_pandas[\"PULocationID\"].map(pulo_mean)\n",
        "X = X.drop(columns=[\"PULocationID\"])\n",
        "\n",
        "# One-hot encode Hvfhs_license_num\n",
        "X = pd.get_dummies(X, columns=[\"Hvfhs_license_num\"], drop_first=True)\n",
        "X = X.astype(float)\n",
        "\n",
        "# Fix extreme outliers in target variable\n",
        "y = y.clip(upper=y.quantile(0.99))\n",
        "\n",
        "# Train-test split\n",
        "X_train, X_test, y_train, y_test = train_test_split(X, y, test_size=0.2, random_state=42)"
      ]
    },
    {
      "cell_type": "code",
      "execution_count": null,
      "metadata": {
        "colab": {
          "base_uri": "https://localhost:8080/"
        },
        "id": "oAAkLrr-RxE5",
        "outputId": "6f9485d0-334a-4de6-81e0-1b6c5627db72"
      },
      "outputs": [
        {
          "output_type": "stream",
          "name": "stdout",
          "text": [
            "                  R² Score       MAE\n",
            "RandomForest      0.717148  2.783542\n",
            "XGBoost           0.787632  2.339800\n",
            "GradientBoosting  0.797635  2.308395\n"
          ]
        }
      ],
      "source": [
        "from sklearn.ensemble import RandomForestRegressor, GradientBoostingRegressor\n",
        "from xgboost import XGBRegressor\n",
        "from sklearn.metrics import r2_score, mean_absolute_error\n",
        "\n",
        "# Train different models to choose the best performing one\n",
        "\n",
        "models = {\n",
        "    \"RandomForest\": RandomForestRegressor(n_estimators=100, max_depth=10, random_state=42),\n",
        "    \"XGBoost\": XGBRegressor(n_estimators=100, learning_rate=0.1, max_depth=6, random_state=42),\n",
        "    \"GradientBoosting\": GradientBoostingRegressor(n_estimators=100, learning_rate=0.1, max_depth=6, random_state=42)\n",
        "}\n",
        "\n",
        "results = {}\n",
        "for name, model in models.items():\n",
        "    model.fit(X_train, y_train)\n",
        "    y_pred = model.predict(X_test)\n",
        "    r2 = r2_score(y_test, y_pred)\n",
        "    mae = mean_absolute_error(y_test, y_pred)\n",
        "    results[name] = {\"R² Score\": r2, \"MAE\": mae}\n",
        "\n",
        "# Convert results dictionary to DataFrame\n",
        "results_df = pd.DataFrame(results).T\n",
        "\n",
        "# Display the results\n",
        "print(results_df)\n"
      ]
    },
    {
      "cell_type": "code",
      "execution_count": null,
      "metadata": {
        "id": "ph7CADllGC4S"
      },
      "outputs": [],
      "source": [
        "#GradientBoosting is the best model, therefore I'll use it to predict driver earnings\n",
        "X = df.drop(columns=[\"earnings_per_hour\"])\n",
        "y = df[\"earnings_per_hour\"]\n",
        "\n",
        "# Train GradientBoosting with the whole dataset\n",
        "best_model = GradientBoostingRegressor(n_estimators=100, learning_rate=0.1, max_depth=6, random_state=42)\n",
        "best_model.fit(X, y)\n",
        "\n",
        "# Predict earnings_per_hour\n",
        "y_pred = best_model.predict(X)\n",
        "\n",
        "# Attach Predictions to PULocationID\n",
        "df_pandas[\"predicted_earnings_per_hour\"] = y_pred\n"
      ]
    },
    {
      "cell_type": "code",
      "source": [
        "# Create a dataframe with PULocationID, hour and predicted_earnings_per_hour for heatmap\n",
        "\n",
        "# Group by PULocationID and Hour to Get Mean Earnings Per Hour\n",
        "earnings_by_location_time = (\n",
        "    df_pandas.groupby([\"PULocationID\", \"hour\"])[\"predicted_earnings_per_hour\"]\n",
        "    .mean()\n",
        "    .reset_index()\n",
        ")\n",
        "\n",
        "# Display first few rows of Results\n",
        "print(earnings_by_location_time.head())"
      ],
      "metadata": {
        "colab": {
          "base_uri": "https://localhost:8080/"
        },
        "id": "bIFZ2GV6dZvJ",
        "outputId": "2d2559ea-bd28-4eba-ee01-c51ff466c63a"
      },
      "execution_count": null,
      "outputs": [
        {
          "output_type": "stream",
          "name": "stdout",
          "text": [
            "   PULocationID  hour  predicted_earnings_per_hour\n",
            "0             1     0                    58.836892\n",
            "1             1     1                    64.492939\n",
            "2             1     2                    68.058126\n",
            "3             1     3                    69.057160\n",
            "4             1     4                    71.637152\n"
          ]
        }
      ]
    },
    {
      "cell_type": "code",
      "source": [
        "#download it as a CSV\n",
        "\n",
        "earnings_by_location_time.to_csv('earnings_by_location_time_with_pred.csv', index=False)\n",
        "files.download('earnings_by_location_time_with_pred.csv')"
      ],
      "metadata": {
        "id": "ajrsJFn4o6U4",
        "colab": {
          "base_uri": "https://localhost:8080/",
          "height": 17
        },
        "outputId": "edfd109b-5b0c-45e7-cc2c-dca6c2773aac"
      },
      "execution_count": null,
      "outputs": [
        {
          "output_type": "display_data",
          "data": {
            "text/plain": [
              "<IPython.core.display.Javascript object>"
            ],
            "application/javascript": [
              "\n",
              "    async function download(id, filename, size) {\n",
              "      if (!google.colab.kernel.accessAllowed) {\n",
              "        return;\n",
              "      }\n",
              "      const div = document.createElement('div');\n",
              "      const label = document.createElement('label');\n",
              "      label.textContent = `Downloading \"${filename}\": `;\n",
              "      div.appendChild(label);\n",
              "      const progress = document.createElement('progress');\n",
              "      progress.max = size;\n",
              "      div.appendChild(progress);\n",
              "      document.body.appendChild(div);\n",
              "\n",
              "      const buffers = [];\n",
              "      let downloaded = 0;\n",
              "\n",
              "      const channel = await google.colab.kernel.comms.open(id);\n",
              "      // Send a message to notify the kernel that we're ready.\n",
              "      channel.send({})\n",
              "\n",
              "      for await (const message of channel.messages) {\n",
              "        // Send a message to notify the kernel that we're ready.\n",
              "        channel.send({})\n",
              "        if (message.buffers) {\n",
              "          for (const buffer of message.buffers) {\n",
              "            buffers.push(buffer);\n",
              "            downloaded += buffer.byteLength;\n",
              "            progress.value = downloaded;\n",
              "          }\n",
              "        }\n",
              "      }\n",
              "      const blob = new Blob(buffers, {type: 'application/binary'});\n",
              "      const a = document.createElement('a');\n",
              "      a.href = window.URL.createObjectURL(blob);\n",
              "      a.download = filename;\n",
              "      div.appendChild(a);\n",
              "      a.click();\n",
              "      div.remove();\n",
              "    }\n",
              "  "
            ]
          },
          "metadata": {}
        },
        {
          "output_type": "display_data",
          "data": {
            "text/plain": [
              "<IPython.core.display.Javascript object>"
            ],
            "application/javascript": [
              "download(\"download_513e4bd4-2237-420c-8e7a-0b017d113682\", \"earnings_by_location_time_with_pred.csv\", 153637)"
            ]
          },
          "metadata": {}
        }
      ]
    },
    {
      "cell_type": "code",
      "source": [],
      "metadata": {
        "id": "gzAFVNB0MVgZ"
      },
      "execution_count": null,
      "outputs": []
    }
  ],
  "metadata": {
    "colab": {
      "provenance": []
    },
    "kernelspec": {
      "display_name": "Python 3",
      "name": "python3"
    },
    "language_info": {
      "name": "python"
    }
  },
  "nbformat": 4,
  "nbformat_minor": 0
}